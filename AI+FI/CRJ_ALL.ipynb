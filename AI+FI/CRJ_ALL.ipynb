{
 "cells": [
  {
   "cell_type": "code",
   "execution_count": 1,
   "metadata": {},
   "outputs": [],
   "source": [
    "import numpy as np\n",
    "import pandas as pd\n",
    "import re\n",
    "import nltk\n",
    "df = pd.read_csv(\"AI_CRJ.csv\",header=0)"
   ]
  },
  {
   "cell_type": "code",
   "execution_count": 2,
   "metadata": {},
   "outputs": [
    {
     "name": "stderr",
     "output_type": "stream",
     "text": [
      "D:\\Programs\\anaconda3\\lib\\site-packages\\IPython\\core\\interactiveshell.py:3071: DtypeWarning: Columns (15,16,17,18) have mixed types.Specify dtype option on import or set low_memory=False.\n",
      "  has_raised = await self.run_ast_nodes(code_ast.body, cell_name,\n"
     ]
    }
   ],
   "source": [
    "df1 = pd.read_csv(\"FI_CRJ.csv\",header=0)"
   ]
  },
  {
   "cell_type": "code",
   "execution_count": 3,
   "metadata": {},
   "outputs": [],
   "source": [
    "df1 = df1[['ATA_SYMPTOM', 'ATA_CAUSE', 'INTERRUPTION_REASON', 'CORRECTIVE_ACTION']]\n",
    "df = df[['ATA_SYMPTOM', 'ATA_CAUSE', 'INTERRUPTION_REASON', 'CORRECTIVE_ACTION']]\n",
    "df2 = df.append(df1, ignore_index=True)"
   ]
  },
  {
   "cell_type": "code",
   "execution_count": 4,
   "metadata": {},
   "outputs": [],
   "source": [
    "df2['ATA_SYM_4'] = df2['ATA_SYMPTOM'].astype(str).str[:4]"
   ]
  },
  {
   "cell_type": "code",
   "execution_count": 5,
   "metadata": {},
   "outputs": [],
   "source": [
    "df2['ATA_CAUSE_4'] = df2['ATA_CAUSE'].astype(str).str[:4]"
   ]
  },
  {
   "cell_type": "code",
   "execution_count": 6,
   "metadata": {},
   "outputs": [],
   "source": [
    "df2['features'] = df2['INTERRUPTION_REASON'].str.cat(df2['CORRECTIVE_ACTION'], sep='  ',na_rep=' ')"
   ]
  },
  {
   "cell_type": "code",
   "execution_count": 7,
   "metadata": {},
   "outputs": [],
   "source": [
    "from nltk.stem import PorterStemmer\n",
    "stemmer = PorterStemmer()\n",
    "def identify_tokens1(df):\n",
    "    comment = df['features']\n",
    "    comment = re.sub(r'\\W',' ',comment)\n",
    "    comment = re.sub(r'\\s+',' ', comment)\n",
    "    words = nltk.word_tokenize(comment)\n",
    "    new_words = [stemmer.stem(word) for word in words]\n",
    "    comment = ' '.join(new_words)\n",
    "    return comment\n",
    "\n",
    "df2['features_1'] = df2.apply(identify_tokens1, axis=1)"
   ]
  },
  {
   "cell_type": "markdown",
   "metadata": {},
   "source": [
    "ATA_SYMPTOM"
   ]
  },
  {
   "cell_type": "code",
   "execution_count": 8,
   "metadata": {},
   "outputs": [],
   "source": [
    "df2_ATA_SYM = df2.dropna(axis=0, subset=['ATA_SYMPTOM'])"
   ]
  },
  {
   "cell_type": "code",
   "execution_count": 9,
   "metadata": {},
   "outputs": [
    {
     "data": {
      "text/plain": [
       "401204"
      ]
     },
     "execution_count": 9,
     "metadata": {},
     "output_type": "execute_result"
    }
   ],
   "source": [
    "len(df2_ATA_SYM)"
   ]
  },
  {
   "cell_type": "code",
   "execution_count": 23,
   "metadata": {},
   "outputs": [],
   "source": [
    "from sklearn.model_selection import train_test_split\n",
    "X = df2_ATA_SYM['features_1']\n",
    "y = df2_ATA_SYM['ATA_SYMPTOM']\n",
    "X_train, X_test, y_train, y_test = train_test_split(X, y, test_size=0.1, random_state=42)"
   ]
  },
  {
   "cell_type": "code",
   "execution_count": 24,
   "metadata": {},
   "outputs": [
    {
     "name": "stderr",
     "output_type": "stream",
     "text": [
      "D:\\Programs\\anaconda3\\lib\\site-packages\\sklearn\\model_selection\\_split.py:670: UserWarning: The least populated class in y has only 1 members, which is less than n_splits=5.\n",
      "  warnings.warn((\"The least populated class in y has only %d\"\n"
     ]
    },
    {
     "data": {
      "text/plain": [
       "Pipeline(steps=[('tfidf',\n",
       "                 TfidfVectorizer(max_features=9000, stop_words='english')),\n",
       "                ('clf', CalibratedClassifierCV(base_estimator=LinearSVC()))])"
      ]
     },
     "execution_count": 24,
     "metadata": {},
     "output_type": "execute_result"
    }
   ],
   "source": [
    "from sklearn.feature_extraction.text import TfidfVectorizer\n",
    "from sklearn.svm import LinearSVC\n",
    "from sklearn.calibration import CalibratedClassifierCV\n",
    "from sklearn.pipeline import Pipeline\n",
    "text_clf = Pipeline([('tfidf',TfidfVectorizer(sublinear_tf=False,ngram_range=(1,2),stop_words='english')),('clf',CalibratedClassifierCV(LinearSVC()))])\n",
    "text_clf.fit(X_train,y_train)"
   ]
  },
  {
   "cell_type": "code",
   "execution_count": 25,
   "metadata": {},
   "outputs": [
    {
     "data": {
      "text/plain": [
       "0.6678796640163506"
      ]
     },
     "execution_count": 25,
     "metadata": {},
     "output_type": "execute_result"
    }
   ],
   "source": [
    "from sklearn import metrics\n",
    "predictions = text_clf.predict(X_test)\n",
    "metrics.accuracy_score(y_test,predictions)"
   ]
  },
  {
   "cell_type": "code",
   "execution_count": 29,
   "metadata": {},
   "outputs": [
    {
     "data": {
      "text/plain": [
       "['crj_all_ATA_SYM.pkl']"
      ]
     },
     "execution_count": 29,
     "metadata": {},
     "output_type": "execute_result"
    }
   ],
   "source": [
    "import joblib\n",
    "joblib.dump(text_clf, 'crj_all_ATA_SYM.pkl')"
   ]
  },
  {
   "cell_type": "code",
   "execution_count": 26,
   "metadata": {},
   "outputs": [],
   "source": [
    "predictions_prob = pd.DataFrame(text_clf.predict_proba(X_test),columns=text_clf.classes_)"
   ]
  },
  {
   "cell_type": "code",
   "execution_count": 27,
   "metadata": {},
   "outputs": [
    {
     "data": {
      "text/html": [
       "<div>\n",
       "<style scoped>\n",
       "    .dataframe tbody tr th:only-of-type {\n",
       "        vertical-align: middle;\n",
       "    }\n",
       "\n",
       "    .dataframe tbody tr th {\n",
       "        vertical-align: top;\n",
       "    }\n",
       "\n",
       "    .dataframe thead th {\n",
       "        text-align: right;\n",
       "    }\n",
       "</style>\n",
       "<table border=\"1\" class=\"dataframe\">\n",
       "  <thead>\n",
       "    <tr style=\"text-align: right;\">\n",
       "      <th></th>\n",
       "      <th>0</th>\n",
       "      <th>1</th>\n",
       "      <th>2</th>\n",
       "      <th>3</th>\n",
       "      <th>4</th>\n",
       "      <th>5</th>\n",
       "    </tr>\n",
       "  </thead>\n",
       "  <tbody>\n",
       "    <tr>\n",
       "      <th>0</th>\n",
       "      <td>4960.0</td>\n",
       "      <td>0.550742</td>\n",
       "      <td>4914.0</td>\n",
       "      <td>0.155903</td>\n",
       "      <td>1200.0</td>\n",
       "      <td>0.106116</td>\n",
       "    </tr>\n",
       "    <tr>\n",
       "      <th>1</th>\n",
       "      <td>2561.0</td>\n",
       "      <td>0.535825</td>\n",
       "      <td>256107.0</td>\n",
       "      <td>0.308014</td>\n",
       "      <td>256105.0</td>\n",
       "      <td>0.053452</td>\n",
       "    </tr>\n",
       "    <tr>\n",
       "      <th>2</th>\n",
       "      <td>200.0</td>\n",
       "      <td>0.803827</td>\n",
       "      <td>2911.0</td>\n",
       "      <td>0.027084</td>\n",
       "      <td>7200.0</td>\n",
       "      <td>0.008117</td>\n",
       "    </tr>\n",
       "    <tr>\n",
       "      <th>3</th>\n",
       "      <td>3461.0</td>\n",
       "      <td>0.874044</td>\n",
       "      <td>346001.0</td>\n",
       "      <td>0.013513</td>\n",
       "      <td>3245.0</td>\n",
       "      <td>0.002452</td>\n",
       "    </tr>\n",
       "    <tr>\n",
       "      <th>4</th>\n",
       "      <td>561201.0</td>\n",
       "      <td>0.511753</td>\n",
       "      <td>5612.0</td>\n",
       "      <td>0.136925</td>\n",
       "      <td>2526.0</td>\n",
       "      <td>0.038714</td>\n",
       "    </tr>\n",
       "    <tr>\n",
       "      <th>...</th>\n",
       "      <td>...</td>\n",
       "      <td>...</td>\n",
       "      <td>...</td>\n",
       "      <td>...</td>\n",
       "      <td>...</td>\n",
       "      <td>...</td>\n",
       "    </tr>\n",
       "    <tr>\n",
       "      <th>40116</th>\n",
       "      <td>8011.0</td>\n",
       "      <td>0.297017</td>\n",
       "      <td>8010.0</td>\n",
       "      <td>0.245483</td>\n",
       "      <td>3611.0</td>\n",
       "      <td>0.029079</td>\n",
       "    </tr>\n",
       "    <tr>\n",
       "      <th>40117</th>\n",
       "      <td>221201.0</td>\n",
       "      <td>0.384616</td>\n",
       "      <td>100.0</td>\n",
       "      <td>0.364516</td>\n",
       "      <td>2212.0</td>\n",
       "      <td>0.028306</td>\n",
       "    </tr>\n",
       "    <tr>\n",
       "      <th>40118</th>\n",
       "      <td>273121.0</td>\n",
       "      <td>0.593249</td>\n",
       "      <td>2731.0</td>\n",
       "      <td>0.095401</td>\n",
       "      <td>2735.0</td>\n",
       "      <td>0.020549</td>\n",
       "    </tr>\n",
       "    <tr>\n",
       "      <th>40119</th>\n",
       "      <td>3512.0</td>\n",
       "      <td>0.784146</td>\n",
       "      <td>3510.0</td>\n",
       "      <td>0.109338</td>\n",
       "      <td>1200.0</td>\n",
       "      <td>0.007731</td>\n",
       "    </tr>\n",
       "    <tr>\n",
       "      <th>40120</th>\n",
       "      <td>783202.0</td>\n",
       "      <td>0.631273</td>\n",
       "      <td>7831.0</td>\n",
       "      <td>0.254697</td>\n",
       "      <td>783317.0</td>\n",
       "      <td>0.036072</td>\n",
       "    </tr>\n",
       "  </tbody>\n",
       "</table>\n",
       "<p>40121 rows × 6 columns</p>\n",
       "</div>"
      ],
      "text/plain": [
       "              0         1         2         3         4         5\n",
       "0        4960.0  0.550742    4914.0  0.155903    1200.0  0.106116\n",
       "1        2561.0  0.535825  256107.0  0.308014  256105.0  0.053452\n",
       "2         200.0  0.803827    2911.0  0.027084    7200.0  0.008117\n",
       "3        3461.0  0.874044  346001.0  0.013513    3245.0  0.002452\n",
       "4      561201.0  0.511753    5612.0  0.136925    2526.0  0.038714\n",
       "...         ...       ...       ...       ...       ...       ...\n",
       "40116    8011.0  0.297017    8010.0  0.245483    3611.0  0.029079\n",
       "40117  221201.0  0.384616     100.0  0.364516    2212.0  0.028306\n",
       "40118  273121.0  0.593249    2731.0  0.095401    2735.0  0.020549\n",
       "40119    3512.0  0.784146    3510.0  0.109338    1200.0  0.007731\n",
       "40120  783202.0  0.631273    7831.0  0.254697  783317.0  0.036072\n",
       "\n",
       "[40121 rows x 6 columns]"
      ]
     },
     "execution_count": 27,
     "metadata": {},
     "output_type": "execute_result"
    }
   ],
   "source": [
    "ata_sym_top3 = lambda row, nlargest=3:sorted(pd.Series(zip(predictions_prob.columns, row)), key=lambda cv: -cv[1]) [:nlargest]\n",
    "\n",
    "tmp = predictions_prob.apply(ata_sym_top3, axis=1)\n",
    "result = pd.DataFrame(list(map(np.ravel, tmp)))\n",
    "result"
   ]
  },
  {
   "cell_type": "code",
   "execution_count": 28,
   "metadata": {},
   "outputs": [],
   "source": [
    "result.to_csv(\"temp.csv\",index=False,quoting=3,sep=',',escapechar='\\\\')\n",
    "output=pd.DataFrame(data={\"Real\":y_test,\"prediction\":predictions,\"Features_Preprocessed\":X_test}) \n",
    "#output\n",
    "output.to_csv(\"Prediction_ALL_ATA_SYM_CRJ_TOP3_0415.csv\",index=False,quoting=3,sep=',',escapechar='\\\\')"
   ]
  },
  {
   "cell_type": "markdown",
   "metadata": {},
   "source": [
    "ATA_CAUSE"
   ]
  },
  {
   "cell_type": "code",
   "execution_count": 30,
   "metadata": {},
   "outputs": [],
   "source": [
    "from sklearn.model_selection import train_test_split\n",
    "X = df2['features_1']\n",
    "y = df2['ATA_CAUSE']\n",
    "X_train, X_test, y_train, y_test = train_test_split(X, y, test_size=0.1, random_state=42)"
   ]
  },
  {
   "cell_type": "code",
   "execution_count": 31,
   "metadata": {},
   "outputs": [
    {
     "name": "stderr",
     "output_type": "stream",
     "text": [
      "D:\\Programs\\anaconda3\\lib\\site-packages\\sklearn\\model_selection\\_split.py:670: UserWarning: The least populated class in y has only 1 members, which is less than n_splits=5.\n",
      "  warnings.warn((\"The least populated class in y has only %d\"\n"
     ]
    },
    {
     "data": {
      "text/plain": [
       "Pipeline(steps=[('tfidf',\n",
       "                 TfidfVectorizer(max_features=9000, stop_words='english')),\n",
       "                ('clf', CalibratedClassifierCV(base_estimator=LinearSVC()))])"
      ]
     },
     "execution_count": 31,
     "metadata": {},
     "output_type": "execute_result"
    }
   ],
   "source": [
    "from sklearn.feature_extraction.text import TfidfVectorizer\n",
    "from sklearn.svm import LinearSVC\n",
    "from sklearn.calibration import CalibratedClassifierCV\n",
    "from sklearn.pipeline import Pipeline\n",
    "text_clf = Pipeline([('tfidf',TfidfVectorizer(sublinear_tf=False,ngram_range=(1,2),stop_words='english')),('clf',CalibratedClassifierCV(LinearSVC()))])\n",
    "text_clf.fit(X_train,y_train)"
   ]
  },
  {
   "cell_type": "code",
   "execution_count": 32,
   "metadata": {},
   "outputs": [
    {
     "data": {
      "text/plain": [
       "0.7389200925095577"
      ]
     },
     "execution_count": 32,
     "metadata": {},
     "output_type": "execute_result"
    }
   ],
   "source": [
    "predictions = text_clf.predict(X_test)\n",
    "metrics.accuracy_score(y_test,predictions)"
   ]
  },
  {
   "cell_type": "code",
   "execution_count": 33,
   "metadata": {},
   "outputs": [],
   "source": [
    "joblib.dump(text_clf, 'crj_all_ATA_CAUSE.pkl')\n",
    "predictions_prob = pd.DataFrame(text_clf.predict_proba(X_test),columns=text_clf.classes_)"
   ]
  },
  {
   "cell_type": "code",
   "execution_count": 34,
   "metadata": {},
   "outputs": [
    {
     "data": {
      "text/html": [
       "<div>\n",
       "<style scoped>\n",
       "    .dataframe tbody tr th:only-of-type {\n",
       "        vertical-align: middle;\n",
       "    }\n",
       "\n",
       "    .dataframe tbody tr th {\n",
       "        vertical-align: top;\n",
       "    }\n",
       "\n",
       "    .dataframe thead th {\n",
       "        text-align: right;\n",
       "    }\n",
       "</style>\n",
       "<table border=\"1\" class=\"dataframe\">\n",
       "  <thead>\n",
       "    <tr style=\"text-align: right;\">\n",
       "      <th></th>\n",
       "      <th>0</th>\n",
       "      <th>1</th>\n",
       "      <th>2</th>\n",
       "      <th>3</th>\n",
       "      <th>4</th>\n",
       "      <th>5</th>\n",
       "    </tr>\n",
       "  </thead>\n",
       "  <tbody>\n",
       "    <tr>\n",
       "      <th>0</th>\n",
       "      <td>4920.0</td>\n",
       "      <td>0.340397</td>\n",
       "      <td>4960.0</td>\n",
       "      <td>0.169046</td>\n",
       "      <td>491402.0</td>\n",
       "      <td>0.148646</td>\n",
       "    </tr>\n",
       "    <tr>\n",
       "      <th>1</th>\n",
       "      <td>253202.0</td>\n",
       "      <td>0.893580</td>\n",
       "      <td>252111.0</td>\n",
       "      <td>0.009457</td>\n",
       "      <td>2532.0</td>\n",
       "      <td>0.003180</td>\n",
       "    </tr>\n",
       "    <tr>\n",
       "      <th>2</th>\n",
       "      <td>324201.0</td>\n",
       "      <td>0.912251</td>\n",
       "      <td>215104.0</td>\n",
       "      <td>0.002116</td>\n",
       "      <td>262102.0</td>\n",
       "      <td>0.001711</td>\n",
       "    </tr>\n",
       "    <tr>\n",
       "      <th>3</th>\n",
       "      <td>2735.0</td>\n",
       "      <td>0.636012</td>\n",
       "      <td>273501.0</td>\n",
       "      <td>0.032134</td>\n",
       "      <td>3244.0</td>\n",
       "      <td>0.026621</td>\n",
       "    </tr>\n",
       "    <tr>\n",
       "      <th>4</th>\n",
       "      <td>2322.0</td>\n",
       "      <td>0.307594</td>\n",
       "      <td>200.0</td>\n",
       "      <td>0.111487</td>\n",
       "      <td>276105.0</td>\n",
       "      <td>0.051855</td>\n",
       "    </tr>\n",
       "    <tr>\n",
       "      <th>...</th>\n",
       "      <td>...</td>\n",
       "      <td>...</td>\n",
       "      <td>...</td>\n",
       "      <td>...</td>\n",
       "      <td>...</td>\n",
       "      <td>...</td>\n",
       "    </tr>\n",
       "    <tr>\n",
       "      <th>42369</th>\n",
       "      <td>200.0</td>\n",
       "      <td>0.864715</td>\n",
       "      <td>2741.0</td>\n",
       "      <td>0.005121</td>\n",
       "      <td>2911.0</td>\n",
       "      <td>0.005051</td>\n",
       "    </tr>\n",
       "    <tr>\n",
       "      <th>42370</th>\n",
       "      <td>200.0</td>\n",
       "      <td>0.278328</td>\n",
       "      <td>2761.0</td>\n",
       "      <td>0.164302</td>\n",
       "      <td>7930.0</td>\n",
       "      <td>0.056693</td>\n",
       "    </tr>\n",
       "    <tr>\n",
       "      <th>42371</th>\n",
       "      <td>7112.0</td>\n",
       "      <td>0.196574</td>\n",
       "      <td>2912.0</td>\n",
       "      <td>0.104784</td>\n",
       "      <td>2515.0</td>\n",
       "      <td>0.091490</td>\n",
       "    </tr>\n",
       "    <tr>\n",
       "      <th>42372</th>\n",
       "      <td>215101.0</td>\n",
       "      <td>0.742055</td>\n",
       "      <td>2151.0</td>\n",
       "      <td>0.072435</td>\n",
       "      <td>4920.0</td>\n",
       "      <td>0.035688</td>\n",
       "    </tr>\n",
       "    <tr>\n",
       "      <th>42373</th>\n",
       "      <td>221211.0</td>\n",
       "      <td>0.891221</td>\n",
       "      <td>2211.0</td>\n",
       "      <td>0.007218</td>\n",
       "      <td>2212.0</td>\n",
       "      <td>0.002782</td>\n",
       "    </tr>\n",
       "  </tbody>\n",
       "</table>\n",
       "<p>42374 rows × 6 columns</p>\n",
       "</div>"
      ],
      "text/plain": [
       "              0         1         2         3         4         5\n",
       "0        4920.0  0.340397    4960.0  0.169046  491402.0  0.148646\n",
       "1      253202.0  0.893580  252111.0  0.009457    2532.0  0.003180\n",
       "2      324201.0  0.912251  215104.0  0.002116  262102.0  0.001711\n",
       "3        2735.0  0.636012  273501.0  0.032134    3244.0  0.026621\n",
       "4        2322.0  0.307594     200.0  0.111487  276105.0  0.051855\n",
       "...         ...       ...       ...       ...       ...       ...\n",
       "42369     200.0  0.864715    2741.0  0.005121    2911.0  0.005051\n",
       "42370     200.0  0.278328    2761.0  0.164302    7930.0  0.056693\n",
       "42371    7112.0  0.196574    2912.0  0.104784    2515.0  0.091490\n",
       "42372  215101.0  0.742055    2151.0  0.072435    4920.0  0.035688\n",
       "42373  221211.0  0.891221    2211.0  0.007218    2212.0  0.002782\n",
       "\n",
       "[42374 rows x 6 columns]"
      ]
     },
     "execution_count": 34,
     "metadata": {},
     "output_type": "execute_result"
    }
   ],
   "source": [
    "ata_sym_top3 = lambda row, nlargest=3:sorted(pd.Series(zip(predictions_prob.columns, row)), key=lambda cv: -cv[1]) [:nlargest]\n",
    "\n",
    "tmp = predictions_prob.apply(ata_sym_top3, axis=1)\n",
    "result = pd.DataFrame(list(map(np.ravel, tmp)))\n",
    "result"
   ]
  },
  {
   "cell_type": "code",
   "execution_count": 35,
   "metadata": {},
   "outputs": [],
   "source": [
    "result.to_csv(\"temp.csv\",index=False,quoting=3,sep=',',escapechar='\\\\')\n",
    "output=pd.DataFrame(data={\"Real\":y_test,\"prediction\":predictions,\"Features_Preprocessed\":X_test}) \n",
    "#output\n",
    "output.to_csv(\"Prediction_ALL_ATA_CAUSE_digits_CRJ_TOP3_0415.csv\",index=False,quoting=3,sep=',',escapechar='\\\\')"
   ]
  },
  {
   "cell_type": "code",
   "execution_count": null,
   "metadata": {},
   "outputs": [],
   "source": []
  }
 ],
 "metadata": {
  "kernelspec": {
   "display_name": "Python 3",
   "language": "python",
   "name": "python3"
  },
  "language_info": {
   "codemirror_mode": {
    "name": "ipython",
    "version": 3
   },
   "file_extension": ".py",
   "mimetype": "text/x-python",
   "name": "python",
   "nbconvert_exporter": "python",
   "pygments_lexer": "ipython3",
   "version": "3.8.3"
  }
 },
 "nbformat": 4,
 "nbformat_minor": 4
}
