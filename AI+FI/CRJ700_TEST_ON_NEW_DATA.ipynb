{
 "cells": [
  {
   "cell_type": "code",
   "execution_count": 1,
   "metadata": {},
   "outputs": [
    {
     "name": "stderr",
     "output_type": "stream",
     "text": [
      "D:\\Programs\\anaconda3\\lib\\site-packages\\IPython\\core\\interactiveshell.py:3071: DtypeWarning: Columns (16,17,18) have mixed types.Specify dtype option on import or set low_memory=False.\n",
      "  has_raised = await self.run_ast_nodes(code_ast.body, cell_name,\n"
     ]
    }
   ],
   "source": [
    "import numpy as np\n",
    "import pandas as pd\n",
    "import re\n",
    "import nltk\n",
    "df = pd.read_csv(\"AI_CRJ700.csv\",header=0)\n",
    "df1 = pd.read_csv(\"FI_CRJ700.csv\",header=0)\n",
    "df1 = df1[['ATA_SYMPTOM', 'ATA_CAUSE', 'INTERRUPTION_REASON', 'CORRECTIVE_ACTION']]\n",
    "df = df[['ATA_SYMPTOM', 'ATA_CAUSE', 'INTERRUPTION_REASON', 'CORRECTIVE_ACTION']]\n",
    "df2 = df.append(df1, ignore_index=True)\n"
   ]
  },
  {
   "cell_type": "code",
   "execution_count": 2,
   "metadata": {},
   "outputs": [
    {
     "data": {
      "text/html": [
       "<div>\n",
       "<style scoped>\n",
       "    .dataframe tbody tr th:only-of-type {\n",
       "        vertical-align: middle;\n",
       "    }\n",
       "\n",
       "    .dataframe tbody tr th {\n",
       "        vertical-align: top;\n",
       "    }\n",
       "\n",
       "    .dataframe thead th {\n",
       "        text-align: right;\n",
       "    }\n",
       "</style>\n",
       "<table border=\"1\" class=\"dataframe\">\n",
       "  <thead>\n",
       "    <tr style=\"text-align: right;\">\n",
       "      <th></th>\n",
       "      <th>ATA_SYMPTOM</th>\n",
       "      <th>ATA_CAUSE</th>\n",
       "      <th>INTERRUPTION_REASON</th>\n",
       "      <th>CORRECTIVE_ACTION</th>\n",
       "      <th>features</th>\n",
       "    </tr>\n",
       "  </thead>\n",
       "  <tbody>\n",
       "    <tr>\n",
       "      <th>0</th>\n",
       "      <td>3081.0</td>\n",
       "      <td>308102</td>\n",
       "      <td>ICE DET (X) FAIL - STATUS</td>\n",
       "      <td>DEFERRED - REPLACED ICE DETECTOR</td>\n",
       "      <td>ICE DET (X) FAIL - STATUS  DEFERRED - REPLACED...</td>\n",
       "    </tr>\n",
       "    <tr>\n",
       "      <th>1</th>\n",
       "      <td>2431.0</td>\n",
       "      <td>243101</td>\n",
       "      <td>TRU FAN FAIL - STATUS</td>\n",
       "      <td>DEFERRED - REPLACED TRU</td>\n",
       "      <td>TRU FAN FAIL - STATUS  DEFERRED - REPLACED TRU</td>\n",
       "    </tr>\n",
       "    <tr>\n",
       "      <th>2</th>\n",
       "      <td>3613.0</td>\n",
       "      <td>361315</td>\n",
       "      <td>ISOL FAIL - CAUTION</td>\n",
       "      <td>REPLACED ISOLATION VALVE</td>\n",
       "      <td>ISOL FAIL - CAUTION  REPLACED ISOLATION VALVE</td>\n",
       "    </tr>\n",
       "    <tr>\n",
       "      <th>3</th>\n",
       "      <td>3022.0</td>\n",
       "      <td>302201</td>\n",
       "      <td>Incident: RTRN L COWL ANTI ICE CAUTION MSG. L ...</td>\n",
       "      <td>(Resolved On W/O: 684248 Taskcard: NR-00001 ) ...</td>\n",
       "      <td>Incident: RTRN L COWL ANTI ICE CAUTION MSG. L ...</td>\n",
       "    </tr>\n",
       "    <tr>\n",
       "      <th>4</th>\n",
       "      <td>213108.0</td>\n",
       "      <td>213108</td>\n",
       "      <td>Incident: RTRN OVBD COOL CAUTION MESSAGE DISPL...</td>\n",
       "      <td>(Resolved On W/O: 684350 Taskcard: NR-00001 ) ...</td>\n",
       "      <td>Incident: RTRN OVBD COOL CAUTION MESSAGE DISPL...</td>\n",
       "    </tr>\n",
       "  </tbody>\n",
       "</table>\n",
       "</div>"
      ],
      "text/plain": [
       "   ATA_SYMPTOM  ATA_CAUSE                                INTERRUPTION_REASON  \\\n",
       "0       3081.0     308102                          ICE DET (X) FAIL - STATUS   \n",
       "1       2431.0     243101                              TRU FAN FAIL - STATUS   \n",
       "2       3613.0     361315                                ISOL FAIL - CAUTION   \n",
       "3       3022.0     302201  Incident: RTRN L COWL ANTI ICE CAUTION MSG. L ...   \n",
       "4     213108.0     213108  Incident: RTRN OVBD COOL CAUTION MESSAGE DISPL...   \n",
       "\n",
       "                                   CORRECTIVE_ACTION  \\\n",
       "0                   DEFERRED - REPLACED ICE DETECTOR   \n",
       "1                            DEFERRED - REPLACED TRU   \n",
       "2                           REPLACED ISOLATION VALVE   \n",
       "3  (Resolved On W/O: 684248 Taskcard: NR-00001 ) ...   \n",
       "4  (Resolved On W/O: 684350 Taskcard: NR-00001 ) ...   \n",
       "\n",
       "                                            features  \n",
       "0  ICE DET (X) FAIL - STATUS  DEFERRED - REPLACED...  \n",
       "1     TRU FAN FAIL - STATUS  DEFERRED - REPLACED TRU  \n",
       "2      ISOL FAIL - CAUTION  REPLACED ISOLATION VALVE  \n",
       "3  Incident: RTRN L COWL ANTI ICE CAUTION MSG. L ...  \n",
       "4  Incident: RTRN OVBD COOL CAUTION MESSAGE DISPL...  "
      ]
     },
     "execution_count": 2,
     "metadata": {},
     "output_type": "execute_result"
    }
   ],
   "source": [
    "df2['features'] = df2['INTERRUPTION_REASON'].str.cat(df2['CORRECTIVE_ACTION'], sep='  ',na_rep=' ')\n",
    "df2.head()"
   ]
  },
  {
   "cell_type": "code",
   "execution_count": 3,
   "metadata": {},
   "outputs": [
    {
     "data": {
      "text/plain": [
       "394817"
      ]
     },
     "execution_count": 3,
     "metadata": {},
     "output_type": "execute_result"
    }
   ],
   "source": [
    "len(df2)"
   ]
  },
  {
   "cell_type": "code",
   "execution_count": null,
   "metadata": {},
   "outputs": [],
   "source": []
  },
  {
   "cell_type": "code",
   "execution_count": 4,
   "metadata": {},
   "outputs": [],
   "source": [
    "import re\n",
    "import nltk\n",
    "from nltk.stem import PorterStemmer\n",
    "stemmer = PorterStemmer()\n",
    "def identify_tokens1(df):\n",
    "    comment = df['features']\n",
    "    comment = re.sub(r'\\W',' ',comment)\n",
    "    comment = re.sub(r'\\s+',' ', comment)\n",
    "    #words = nltk.word_tokenize(comment)\n",
    "   # new_words = [stemmer.stem(word) for word in words]\n",
    "    #comment = ' '.join(new_words)\n",
    "    return comment\n",
    "\n",
    "df2['features_1'] = df2.apply(identify_tokens1, axis=1)"
   ]
  },
  {
   "cell_type": "code",
   "execution_count": 6,
   "metadata": {},
   "outputs": [
    {
     "data": {
      "text/plain": [
       "3035"
      ]
     },
     "execution_count": 6,
     "metadata": {},
     "output_type": "execute_result"
    }
   ],
   "source": [
    "df_2020 = pd.read_csv(\"AI_2020.csv\",header=0)\n",
    "df_2020_1 = pd.read_csv(\"FI_2020.csv\",header=0)\n",
    "df_2020 = df_2020[df_2020['AC_MODEL']=='CRJ700']\n",
    "df_2020_1 = df_2020_1[df_2020_1['AC_MODEL']=='CRJ700']\n",
    "df_2020 = df_2020[['ATA_SYMPTOM', 'ATA_CAUSE', 'INTERRUPTION_REASON', 'CORRECTIVE_ACTION']]\n",
    "df_2020_1 = df_2020_1[['ATA_SYMPTOM', 'ATA_CAUSE', 'INTERRUPTION_REASON', 'CORRECTIVE_ACTION']]\n",
    "df_2020_2 = df_2020.append(df_2020_1, ignore_index=True)\n",
    "len(df_2020_2)"
   ]
  },
  {
   "cell_type": "code",
   "execution_count": 7,
   "metadata": {},
   "outputs": [
    {
     "data": {
      "text/html": [
       "<div>\n",
       "<style scoped>\n",
       "    .dataframe tbody tr th:only-of-type {\n",
       "        vertical-align: middle;\n",
       "    }\n",
       "\n",
       "    .dataframe tbody tr th {\n",
       "        vertical-align: top;\n",
       "    }\n",
       "\n",
       "    .dataframe thead th {\n",
       "        text-align: right;\n",
       "    }\n",
       "</style>\n",
       "<table border=\"1\" class=\"dataframe\">\n",
       "  <thead>\n",
       "    <tr style=\"text-align: right;\">\n",
       "      <th></th>\n",
       "      <th>ATA_SYMPTOM</th>\n",
       "      <th>ATA_CAUSE</th>\n",
       "      <th>INTERRUPTION_REASON</th>\n",
       "      <th>CORRECTIVE_ACTION</th>\n",
       "    </tr>\n",
       "  </thead>\n",
       "  <tbody>\n",
       "    <tr>\n",
       "      <th>0</th>\n",
       "      <td>0</td>\n",
       "      <td>0</td>\n",
       "      <td>Reason: DUMMY RECORD</td>\n",
       "      <td>NaN</td>\n",
       "    </tr>\n",
       "    <tr>\n",
       "      <th>1</th>\n",
       "      <td>0</td>\n",
       "      <td>0</td>\n",
       "      <td>Reason: DUMMY RECORD</td>\n",
       "      <td>NaN</td>\n",
       "    </tr>\n",
       "    <tr>\n",
       "      <th>2</th>\n",
       "      <td>276201</td>\n",
       "      <td>276201</td>\n",
       "      <td>FLT SPLRS/SPOILERONS - CAUTION</td>\n",
       "      <td>REPLACED MFS PCU</td>\n",
       "    </tr>\n",
       "    <tr>\n",
       "      <th>3</th>\n",
       "      <td>5270</td>\n",
       "      <td>5211</td>\n",
       "      <td>PAX DR LATCH - CAUTION</td>\n",
       "      <td>DEFERRED - REPLACED LEVER ASSY</td>\n",
       "    </tr>\n",
       "    <tr>\n",
       "      <th>4</th>\n",
       "      <td>200</td>\n",
       "      <td>200</td>\n",
       "      <td>PAPERWORK - LOGBOOK</td>\n",
       "      <td>CORRECTED</td>\n",
       "    </tr>\n",
       "  </tbody>\n",
       "</table>\n",
       "</div>"
      ],
      "text/plain": [
       "   ATA_SYMPTOM  ATA_CAUSE             INTERRUPTION_REASON  \\\n",
       "0            0          0            Reason: DUMMY RECORD   \n",
       "1            0          0            Reason: DUMMY RECORD   \n",
       "2       276201     276201  FLT SPLRS/SPOILERONS - CAUTION   \n",
       "3         5270       5211          PAX DR LATCH - CAUTION   \n",
       "4          200        200             PAPERWORK - LOGBOOK   \n",
       "\n",
       "                CORRECTIVE_ACTION  \n",
       "0                             NaN  \n",
       "1                             NaN  \n",
       "2                REPLACED MFS PCU  \n",
       "3  DEFERRED - REPLACED LEVER ASSY  \n",
       "4                       CORRECTED  "
      ]
     },
     "execution_count": 7,
     "metadata": {},
     "output_type": "execute_result"
    }
   ],
   "source": [
    "df_2020_2.head()"
   ]
  },
  {
   "cell_type": "code",
   "execution_count": 8,
   "metadata": {},
   "outputs": [],
   "source": [
    "#df1 = df.dropna(axis=0, subset=['ATA_SYMPTOM'])\n",
    "df_2020_2['features'] = df_2020_2['INTERRUPTION_REASON'].str.cat(df['CORRECTIVE_ACTION'], sep='  ',na_rep=' ')\n",
    "df_2020_2['feature_1'] = df_2020_2.apply(identify_tokens1, axis=1)\n"
   ]
  },
  {
   "cell_type": "code",
   "execution_count": 9,
   "metadata": {},
   "outputs": [
    {
     "data": {
      "text/html": [
       "<div>\n",
       "<style scoped>\n",
       "    .dataframe tbody tr th:only-of-type {\n",
       "        vertical-align: middle;\n",
       "    }\n",
       "\n",
       "    .dataframe tbody tr th {\n",
       "        vertical-align: top;\n",
       "    }\n",
       "\n",
       "    .dataframe thead th {\n",
       "        text-align: right;\n",
       "    }\n",
       "</style>\n",
       "<table border=\"1\" class=\"dataframe\">\n",
       "  <thead>\n",
       "    <tr style=\"text-align: right;\">\n",
       "      <th></th>\n",
       "      <th>ATA_SYMPTOM</th>\n",
       "      <th>ATA_CAUSE</th>\n",
       "      <th>INTERRUPTION_REASON</th>\n",
       "      <th>CORRECTIVE_ACTION</th>\n",
       "      <th>features</th>\n",
       "      <th>feature_1</th>\n",
       "    </tr>\n",
       "  </thead>\n",
       "  <tbody>\n",
       "    <tr>\n",
       "      <th>0</th>\n",
       "      <td>0</td>\n",
       "      <td>0</td>\n",
       "      <td>Reason: DUMMY RECORD</td>\n",
       "      <td>NaN</td>\n",
       "      <td>Reason: DUMMY RECORD  DEFERRED - REPLACED ICE ...</td>\n",
       "      <td>Reason DUMMY RECORD DEFERRED REPLACED ICE DETE...</td>\n",
       "    </tr>\n",
       "    <tr>\n",
       "      <th>1</th>\n",
       "      <td>0</td>\n",
       "      <td>0</td>\n",
       "      <td>Reason: DUMMY RECORD</td>\n",
       "      <td>NaN</td>\n",
       "      <td>Reason: DUMMY RECORD  DEFERRED - REPLACED TRU</td>\n",
       "      <td>Reason DUMMY RECORD DEFERRED REPLACED TRU</td>\n",
       "    </tr>\n",
       "    <tr>\n",
       "      <th>2</th>\n",
       "      <td>276201</td>\n",
       "      <td>276201</td>\n",
       "      <td>FLT SPLRS/SPOILERONS - CAUTION</td>\n",
       "      <td>REPLACED MFS PCU</td>\n",
       "      <td>FLT SPLRS/SPOILERONS - CAUTION  REPLACED ISOLA...</td>\n",
       "      <td>FLT SPLRS SPOILERONS CAUTION REPLACED ISOLATIO...</td>\n",
       "    </tr>\n",
       "    <tr>\n",
       "      <th>3</th>\n",
       "      <td>5270</td>\n",
       "      <td>5211</td>\n",
       "      <td>PAX DR LATCH - CAUTION</td>\n",
       "      <td>DEFERRED - REPLACED LEVER ASSY</td>\n",
       "      <td>PAX DR LATCH - CAUTION  (Resolved On W/O: 6842...</td>\n",
       "      <td>PAX DR LATCH CAUTION Resolved On W O 684248 Ta...</td>\n",
       "    </tr>\n",
       "    <tr>\n",
       "      <th>4</th>\n",
       "      <td>200</td>\n",
       "      <td>200</td>\n",
       "      <td>PAPERWORK - LOGBOOK</td>\n",
       "      <td>CORRECTED</td>\n",
       "      <td>PAPERWORK - LOGBOOK  (Resolved On W/O: 684350 ...</td>\n",
       "      <td>PAPERWORK LOGBOOK Resolved On W O 684350 Taskc...</td>\n",
       "    </tr>\n",
       "  </tbody>\n",
       "</table>\n",
       "</div>"
      ],
      "text/plain": [
       "   ATA_SYMPTOM  ATA_CAUSE             INTERRUPTION_REASON  \\\n",
       "0            0          0            Reason: DUMMY RECORD   \n",
       "1            0          0            Reason: DUMMY RECORD   \n",
       "2       276201     276201  FLT SPLRS/SPOILERONS - CAUTION   \n",
       "3         5270       5211          PAX DR LATCH - CAUTION   \n",
       "4          200        200             PAPERWORK - LOGBOOK   \n",
       "\n",
       "                CORRECTIVE_ACTION  \\\n",
       "0                             NaN   \n",
       "1                             NaN   \n",
       "2                REPLACED MFS PCU   \n",
       "3  DEFERRED - REPLACED LEVER ASSY   \n",
       "4                       CORRECTED   \n",
       "\n",
       "                                            features  \\\n",
       "0  Reason: DUMMY RECORD  DEFERRED - REPLACED ICE ...   \n",
       "1      Reason: DUMMY RECORD  DEFERRED - REPLACED TRU   \n",
       "2  FLT SPLRS/SPOILERONS - CAUTION  REPLACED ISOLA...   \n",
       "3  PAX DR LATCH - CAUTION  (Resolved On W/O: 6842...   \n",
       "4  PAPERWORK - LOGBOOK  (Resolved On W/O: 684350 ...   \n",
       "\n",
       "                                           feature_1  \n",
       "0  Reason DUMMY RECORD DEFERRED REPLACED ICE DETE...  \n",
       "1          Reason DUMMY RECORD DEFERRED REPLACED TRU  \n",
       "2  FLT SPLRS SPOILERONS CAUTION REPLACED ISOLATIO...  \n",
       "3  PAX DR LATCH CAUTION Resolved On W O 684248 Ta...  \n",
       "4  PAPERWORK LOGBOOK Resolved On W O 684350 Taskc...  "
      ]
     },
     "execution_count": 9,
     "metadata": {},
     "output_type": "execute_result"
    }
   ],
   "source": [
    "df_2020_2.head()"
   ]
  },
  {
   "cell_type": "markdown",
   "metadata": {},
   "source": [
    "CREATE df,df_2020 and RUN ATA_CAUSE"
   ]
  },
  {
   "cell_type": "code",
   "execution_count": 10,
   "metadata": {},
   "outputs": [],
   "source": [
    "from sklearn.model_selection import train_test_split\n",
    "X_train = df2['features_1']\n",
    "y_train = df2['ATA_CAUSE']\n",
    "X_test = df_2020_2['feature_1']\n",
    "y_test= df_2020_2['ATA_CAUSE']"
   ]
  },
  {
   "cell_type": "code",
   "execution_count": 11,
   "metadata": {},
   "outputs": [
    {
     "data": {
      "text/plain": [
       "394817"
      ]
     },
     "execution_count": 11,
     "metadata": {},
     "output_type": "execute_result"
    }
   ],
   "source": [
    "len(X_train)"
   ]
  },
  {
   "cell_type": "code",
   "execution_count": 12,
   "metadata": {},
   "outputs": [
    {
     "name": "stderr",
     "output_type": "stream",
     "text": [
      "D:\\Programs\\anaconda3\\lib\\site-packages\\sklearn\\model_selection\\_split.py:670: UserWarning: The least populated class in y has only 1 members, which is less than n_splits=5.\n",
      "  warnings.warn((\"The least populated class in y has only %d\"\n"
     ]
    },
    {
     "data": {
      "text/plain": [
       "Pipeline(steps=[('tfidf',\n",
       "                 TfidfVectorizer(max_features=4500, stop_words='english')),\n",
       "                ('clf', CalibratedClassifierCV(base_estimator=LinearSVC()))])"
      ]
     },
     "execution_count": 12,
     "metadata": {},
     "output_type": "execute_result"
    }
   ],
   "source": [
    "from sklearn.feature_extraction.text import TfidfVectorizer\n",
    "from sklearn.svm import LinearSVC\n",
    "from sklearn.calibration import CalibratedClassifierCV\n",
    "from sklearn.pipeline import Pipeline\n",
    "text_clf = Pipeline([('tfidf',TfidfVectorizer(max_features=4500,stop_words='english')),('clf',CalibratedClassifierCV(LinearSVC()))])\n",
    "text_clf.fit(X_train,y_train)"
   ]
  },
  {
   "cell_type": "code",
   "execution_count": 21,
   "metadata": {},
   "outputs": [
    {
     "data": {
      "text/plain": [
       "'Reason DUMMY RECORD '"
      ]
     },
     "execution_count": 21,
     "metadata": {},
     "output_type": "execute_result"
    }
   ],
   "source": [
    "X_train[13]"
   ]
  },
  {
   "cell_type": "code",
   "execution_count": 18,
   "metadata": {},
   "outputs": [
    {
     "data": {
      "text/plain": [
       "0       Reason DUMMY RECORD DEFERRED REPLACED ICE DETE...\n",
       "1               Reason DUMMY RECORD DEFERRED REPLACED TRU\n",
       "2       FLT SPLRS SPOILERONS CAUTION REPLACED ISOLATIO...\n",
       "3       PAX DR LATCH CAUTION Resolved On W O 684248 Ta...\n",
       "4       PAPERWORK LOGBOOK Resolved On W O 684350 Taskc...\n",
       "                              ...                        \n",
       "3030    Left drain fault light on forward potable wate...\n",
       "3031                            MDC FAULT status message \n",
       "3032    D FORWARD LAV SINK RUNS CONTINUOSLY C MEL 38 1...\n",
       "3033    FA reports all seat outlets do not work CB in ...\n",
       "3034    Deep hole about the size of a nickel found in ...\n",
       "Name: feature_1, Length: 3035, dtype: object"
      ]
     },
     "execution_count": 18,
     "metadata": {},
     "output_type": "execute_result"
    }
   ],
   "source": [
    "X_test"
   ]
  },
  {
   "cell_type": "code",
   "execution_count": 22,
   "metadata": {},
   "outputs": [
    {
     "data": {
      "text/plain": [
       "0.27479406919275123"
      ]
     },
     "execution_count": 22,
     "metadata": {},
     "output_type": "execute_result"
    }
   ],
   "source": [
    "from sklearn import metrics\n",
    "predictions = text_clf.predict(X_test)\n",
    "metrics.accuracy_score(y_test,predictions)"
   ]
  },
  {
   "cell_type": "code",
   "execution_count": 24,
   "metadata": {},
   "outputs": [],
   "source": [
    "output=pd.DataFrame(data={\"Real\":y_test,\"prediction\":predictions,\"Features_Preprocessed\":X_test}) \n",
    "#output\n",
    "output.to_csv(\"Prediction_AI_ATA_SYM_CR700_new_dataset.csv\",index=False,quoting=3,sep=',',escapechar='\\\\')"
   ]
  },
  {
   "cell_type": "markdown",
   "metadata": {},
   "source": [
    "ATA_SYM"
   ]
  },
  {
   "cell_type": "code",
   "execution_count": 28,
   "metadata": {},
   "outputs": [],
   "source": [
    "df1 = df.dropna(axis=0, subset=['ATA_SYMPTOM'])\n",
    "df1_2020 = df_2020.dropna(axis=0, subset=['ATA_SYMPTOM'])\n",
    "X_train = df1['features_1']\n",
    "y_train = df1['ATA_SYMPTOM']\n",
    "X_test = df1_2020['feature_1']\n",
    "y_test= df1_2020['ATA_SYMPTOM']"
   ]
  },
  {
   "cell_type": "code",
   "execution_count": 29,
   "metadata": {},
   "outputs": [
    {
     "name": "stderr",
     "output_type": "stream",
     "text": [
      "D:\\Programs\\anaconda3\\lib\\site-packages\\sklearn\\model_selection\\_split.py:670: UserWarning: The least populated class in y has only 1 members, which is less than n_splits=5.\n",
      "  warnings.warn((\"The least populated class in y has only %d\"\n"
     ]
    },
    {
     "data": {
      "text/plain": [
       "Pipeline(steps=[('tfidf',\n",
       "                 TfidfVectorizer(max_features=9000, stop_words='english')),\n",
       "                ('clf', CalibratedClassifierCV(base_estimator=LinearSVC()))])"
      ]
     },
     "execution_count": 29,
     "metadata": {},
     "output_type": "execute_result"
    }
   ],
   "source": [
    "text_clf = Pipeline([('tfidf',TfidfVectorizer(max_features=9000,stop_words='english')),('clf',CalibratedClassifierCV(LinearSVC()))])\n",
    "text_clf.fit(X_train,y_train)"
   ]
  },
  {
   "cell_type": "code",
   "execution_count": 30,
   "metadata": {},
   "outputs": [
    {
     "data": {
      "text/plain": [
       "0.59375"
      ]
     },
     "execution_count": 30,
     "metadata": {},
     "output_type": "execute_result"
    }
   ],
   "source": [
    "predictions = text_clf.predict(X_test)\n",
    "metrics.accuracy_score(y_test,predictions)"
   ]
  },
  {
   "cell_type": "code",
   "execution_count": null,
   "metadata": {},
   "outputs": [],
   "source": []
  }
 ],
 "metadata": {
  "kernelspec": {
   "display_name": "Python 3",
   "language": "python",
   "name": "python3"
  },
  "language_info": {
   "codemirror_mode": {
    "name": "ipython",
    "version": 3
   },
   "file_extension": ".py",
   "mimetype": "text/x-python",
   "name": "python",
   "nbconvert_exporter": "python",
   "pygments_lexer": "ipython3",
   "version": "3.8.3"
  }
 },
 "nbformat": 4,
 "nbformat_minor": 4
}
