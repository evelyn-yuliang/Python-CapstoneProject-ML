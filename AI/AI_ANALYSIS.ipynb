{
 "cells": [
  {
   "cell_type": "code",
   "execution_count": 2,
   "metadata": {},
   "outputs": [
    {
     "name": "stderr",
     "output_type": "stream",
     "text": [
      "D:\\Programs\\anaconda3\\lib\\site-packages\\IPython\\core\\interactiveshell.py:3071: DtypeWarning: Columns (21,24) have mixed types.Specify dtype option on import or set low_memory=False.\n",
      "  has_raised = await self.run_ast_nodes(code_ast.body, cell_name,\n"
     ]
    }
   ],
   "source": [
    "import numpy as np\n",
    "import pandas as pd\n",
    "\n",
    "input_file = \"AI.csv\"\n",
    "df = pd.read_csv(input_file,header=0,dtype={\n",
    "                     'ATA_CAUSE': str,\n",
    "                     'ATA_SYMPTOM': str\n",
    "                     })"
   ]
  },
  {
   "cell_type": "code",
   "execution_count": 3,
   "metadata": {},
   "outputs": [
    {
     "data": {
      "text/html": [
       "<div>\n",
       "<style scoped>\n",
       "    .dataframe tbody tr th:only-of-type {\n",
       "        vertical-align: middle;\n",
       "    }\n",
       "\n",
       "    .dataframe tbody tr th {\n",
       "        vertical-align: top;\n",
       "    }\n",
       "\n",
       "    .dataframe thead th {\n",
       "        text-align: right;\n",
       "    }\n",
       "</style>\n",
       "<table border=\"1\" class=\"dataframe\">\n",
       "  <thead>\n",
       "    <tr style=\"text-align: right;\">\n",
       "      <th></th>\n",
       "      <th>Unnamed: 0</th>\n",
       "      <th>AI_DATE</th>\n",
       "      <th>AC_MODEL</th>\n",
       "      <th>AC_SN</th>\n",
       "      <th>OPERATOR_CODE</th>\n",
       "      <th>EVENT_RECORD_IDENTIFIER</th>\n",
       "      <th>DIVERTED_LANDING</th>\n",
       "      <th>AIR_TURN_BACK</th>\n",
       "      <th>REJECTED_TAKE_OFF</th>\n",
       "      <th>GROUND_TURN_BACK</th>\n",
       "      <th>...</th>\n",
       "      <th>ATA_CAUSE</th>\n",
       "      <th>INTERRUPTION_REASON</th>\n",
       "      <th>CORRECTIVE_ACTION</th>\n",
       "      <th>AI_ID</th>\n",
       "      <th>EDIT_DATE</th>\n",
       "      <th>EDITED_BY</th>\n",
       "      <th>Unnamed: 23</th>\n",
       "      <th>ATA_CHAPTER</th>\n",
       "      <th>ATA_CHAPTER_CAUSE</th>\n",
       "      <th>AI_DATE_1</th>\n",
       "    </tr>\n",
       "  </thead>\n",
       "  <tbody>\n",
       "    <tr>\n",
       "      <th>0</th>\n",
       "      <td>0</td>\n",
       "      <td>29-Mar-20</td>\n",
       "      <td>CRJ700</td>\n",
       "      <td>15299</td>\n",
       "      <td>EDV</td>\n",
       "      <td>NaN</td>\n",
       "      <td>0</td>\n",
       "      <td>N</td>\n",
       "      <td>N</td>\n",
       "      <td>Y</td>\n",
       "      <td>...</td>\n",
       "      <td>308102</td>\n",
       "      <td>ICE DET (X) FAIL - STATUS</td>\n",
       "      <td>DEFERRED - REPLACED ICE DETECTOR</td>\n",
       "      <td>590931</td>\n",
       "      <td>13-May-20</td>\n",
       "      <td>T12540</td>\n",
       "      <td>NaN</td>\n",
       "      <td>30</td>\n",
       "      <td>30</td>\n",
       "      <td>20</td>\n",
       "    </tr>\n",
       "    <tr>\n",
       "      <th>1</th>\n",
       "      <td>1</td>\n",
       "      <td>30-Mar-20</td>\n",
       "      <td>CRJ700</td>\n",
       "      <td>15125</td>\n",
       "      <td>EDV</td>\n",
       "      <td>NaN</td>\n",
       "      <td>0</td>\n",
       "      <td>N</td>\n",
       "      <td>N</td>\n",
       "      <td>Y</td>\n",
       "      <td>...</td>\n",
       "      <td>243101</td>\n",
       "      <td>TRU FAN FAIL - STATUS</td>\n",
       "      <td>DEFERRED - REPLACED TRU</td>\n",
       "      <td>590932</td>\n",
       "      <td>13-May-20</td>\n",
       "      <td>T12540</td>\n",
       "      <td>NaN</td>\n",
       "      <td>24</td>\n",
       "      <td>24</td>\n",
       "      <td>20</td>\n",
       "    </tr>\n",
       "    <tr>\n",
       "      <th>2</th>\n",
       "      <td>2</td>\n",
       "      <td>30-Mar-20</td>\n",
       "      <td>CRJ700</td>\n",
       "      <td>10176</td>\n",
       "      <td>EDV</td>\n",
       "      <td>NaN</td>\n",
       "      <td>0</td>\n",
       "      <td>N</td>\n",
       "      <td>N</td>\n",
       "      <td>Y</td>\n",
       "      <td>...</td>\n",
       "      <td>361315</td>\n",
       "      <td>ISOL FAIL - CAUTION</td>\n",
       "      <td>REPLACED ISOLATION VALVE</td>\n",
       "      <td>590933</td>\n",
       "      <td>13-May-20</td>\n",
       "      <td>T12540</td>\n",
       "      <td>NaN</td>\n",
       "      <td>36</td>\n",
       "      <td>36</td>\n",
       "      <td>20</td>\n",
       "    </tr>\n",
       "    <tr>\n",
       "      <th>3</th>\n",
       "      <td>3</td>\n",
       "      <td>3-Apr-20</td>\n",
       "      <td>CRJ700</td>\n",
       "      <td>15046</td>\n",
       "      <td>JZA</td>\n",
       "      <td>NaN</td>\n",
       "      <td>0</td>\n",
       "      <td>N</td>\n",
       "      <td>N</td>\n",
       "      <td>Y</td>\n",
       "      <td>...</td>\n",
       "      <td>302201</td>\n",
       "      <td>Incident: RTRN L COWL ANTI ICE CAUTION MSG. L ...</td>\n",
       "      <td>(Resolved On W/O: 684248 Taskcard: NR-00001 ) ...</td>\n",
       "      <td>591076</td>\n",
       "      <td>27-May-20</td>\n",
       "      <td>T12540</td>\n",
       "      <td>NaN</td>\n",
       "      <td>30</td>\n",
       "      <td>30</td>\n",
       "      <td>20</td>\n",
       "    </tr>\n",
       "    <tr>\n",
       "      <th>4</th>\n",
       "      <td>4</td>\n",
       "      <td>8-Apr-20</td>\n",
       "      <td>CRJ700</td>\n",
       "      <td>15044</td>\n",
       "      <td>JZA</td>\n",
       "      <td>NaN</td>\n",
       "      <td>0</td>\n",
       "      <td>N</td>\n",
       "      <td>N</td>\n",
       "      <td>Y</td>\n",
       "      <td>...</td>\n",
       "      <td>213108</td>\n",
       "      <td>Incident: RTRN OVBD COOL CAUTION MESSAGE DISPL...</td>\n",
       "      <td>(Resolved On W/O: 684350 Taskcard: NR-00001 ) ...</td>\n",
       "      <td>591077</td>\n",
       "      <td>27-May-20</td>\n",
       "      <td>T12540</td>\n",
       "      <td>NaN</td>\n",
       "      <td>21</td>\n",
       "      <td>21</td>\n",
       "      <td>20</td>\n",
       "    </tr>\n",
       "  </tbody>\n",
       "</table>\n",
       "<p>5 rows × 28 columns</p>\n",
       "</div>"
      ],
      "text/plain": [
       "   Unnamed: 0    AI_DATE AC_MODEL  AC_SN OPERATOR_CODE  \\\n",
       "0           0  29-Mar-20   CRJ700  15299           EDV   \n",
       "1           1  30-Mar-20   CRJ700  15125           EDV   \n",
       "2           2  30-Mar-20   CRJ700  10176           EDV   \n",
       "3           3   3-Apr-20   CRJ700  15046           JZA   \n",
       "4           4   8-Apr-20   CRJ700  15044           JZA   \n",
       "\n",
       "  EVENT_RECORD_IDENTIFIER  DIVERTED_LANDING AIR_TURN_BACK REJECTED_TAKE_OFF  \\\n",
       "0                     NaN                 0             N                 N   \n",
       "1                     NaN                 0             N                 N   \n",
       "2                     NaN                 0             N                 N   \n",
       "3                     NaN                 0             N                 N   \n",
       "4                     NaN                 0             N                 N   \n",
       "\n",
       "  GROUND_TURN_BACK  ... ATA_CAUSE  \\\n",
       "0                Y  ...    308102   \n",
       "1                Y  ...    243101   \n",
       "2                Y  ...    361315   \n",
       "3                Y  ...    302201   \n",
       "4                Y  ...    213108   \n",
       "\n",
       "                                 INTERRUPTION_REASON  \\\n",
       "0                          ICE DET (X) FAIL - STATUS   \n",
       "1                              TRU FAN FAIL - STATUS   \n",
       "2                                ISOL FAIL - CAUTION   \n",
       "3  Incident: RTRN L COWL ANTI ICE CAUTION MSG. L ...   \n",
       "4  Incident: RTRN OVBD COOL CAUTION MESSAGE DISPL...   \n",
       "\n",
       "                                   CORRECTIVE_ACTION   AI_ID  EDIT_DATE  \\\n",
       "0                   DEFERRED - REPLACED ICE DETECTOR  590931  13-May-20   \n",
       "1                            DEFERRED - REPLACED TRU  590932  13-May-20   \n",
       "2                           REPLACED ISOLATION VALVE  590933  13-May-20   \n",
       "3  (Resolved On W/O: 684248 Taskcard: NR-00001 ) ...  591076  27-May-20   \n",
       "4  (Resolved On W/O: 684350 Taskcard: NR-00001 ) ...  591077  27-May-20   \n",
       "\n",
       "  EDITED_BY Unnamed: 23 ATA_CHAPTER ATA_CHAPTER_CAUSE AI_DATE_1  \n",
       "0    T12540         NaN          30                30        20  \n",
       "1    T12540         NaN          24                24        20  \n",
       "2    T12540         NaN          36                36        20  \n",
       "3    T12540         NaN          30                30        20  \n",
       "4    T12540         NaN          21                21        20  \n",
       "\n",
       "[5 rows x 28 columns]"
      ]
     },
     "execution_count": 3,
     "metadata": {},
     "output_type": "execute_result"
    }
   ],
   "source": [
    "df.head()"
   ]
  },
  {
   "cell_type": "code",
   "execution_count": 16,
   "metadata": {},
   "outputs": [
    {
     "data": {
      "text/plain": [
       "Index(['AI_DATE', 'AC_MODEL', 'AC_SN', 'OPERATOR_CODE',\n",
       "       'EVENT_RECORD_IDENTIFIER', 'DIVERTED_LANDING', 'AIR_TURN_BACK',\n",
       "       'REJECTED_TAKE_OFF', 'GROUND_TURN_BACK', 'ABORTED_APPROACH',\n",
       "       'EMERGENCY_DESCENT', 'SMOKE', 'EMERGENCY_LANDING', 'INFLIGHT_SHUTDOWN',\n",
       "       'GEN_AIR_INTERRUPT', 'GEN_GROUND_INTERRUPT', 'ATA_SYMPTOM', 'ATA_CAUSE',\n",
       "       'INTERRUPTION_REASON', 'CORRECTIVE_ACTION', 'AI_ID', 'EDIT_DATE',\n",
       "       'EDITED_BY', 'Unnamed: 23'],\n",
       "      dtype='object')"
      ]
     },
     "execution_count": 16,
     "metadata": {},
     "output_type": "execute_result"
    }
   ],
   "source": [
    "df.columns"
   ]
  },
  {
   "cell_type": "code",
   "execution_count": 15,
   "metadata": {},
   "outputs": [
    {
     "name": "stdout",
     "output_type": "stream",
     "text": [
      "<class 'pandas.core.frame.DataFrame'>\n",
      "Int64Index: 51780 entries, 1 to 51780\n",
      "Data columns (total 24 columns):\n",
      " #   Column                Non-Null Count  Dtype \n",
      "---  ------                --------------  ----- \n",
      " 0   Unnamed: 0            51780 non-null  int64 \n",
      " 1   AI_DATE               51780 non-null  object\n",
      " 2   AC_MODEL              51780 non-null  object\n",
      " 3   AC_SN                 51780 non-null  int64 \n",
      " 4   DIVERTED_LANDING      51780 non-null  int64 \n",
      " 5   AIR_TURN_BACK         51780 non-null  object\n",
      " 6   REJECTED_TAKE_OFF     51780 non-null  object\n",
      " 7   GROUND_TURN_BACK      51780 non-null  object\n",
      " 8   ABORTED_APPROACH      51780 non-null  object\n",
      " 9   EMERGENCY_DESCENT     51780 non-null  object\n",
      " 10  SMOKE                 51780 non-null  object\n",
      " 11  EMERGENCY_LANDING     51780 non-null  object\n",
      " 12  INFLIGHT_SHUTDOWN     51780 non-null  object\n",
      " 13  GEN_AIR_INTERRUPT     51780 non-null  object\n",
      " 14  GEN_GROUND_INTERRUPT  51780 non-null  object\n",
      " 15  ATA_SYMPTOM           22961 non-null  object\n",
      " 16  ATA_CAUSE             51780 non-null  object\n",
      " 17  INTERRUPTION_REASON   51780 non-null  object\n",
      " 18  CORRECTIVE_ACTION     43942 non-null  object\n",
      " 19  AI_ID                 51779 non-null  object\n",
      " 20  EDITED_BY             51778 non-null  object\n",
      " 21  ATA_CHAPTER           51780 non-null  object\n",
      " 22  ATA_CHAPTER_CAUSE     51780 non-null  int64 \n",
      " 23  AI_DATE_1             51780 non-null  int64 \n",
      "dtypes: int64(5), object(19)\n",
      "memory usage: 12.4+ MB\n"
     ]
    }
   ],
   "source": [
    "df.info()"
   ]
  },
  {
   "cell_type": "code",
   "execution_count": 51,
   "metadata": {},
   "outputs": [
    {
     "data": {
      "text/plain": [
       "51781"
      ]
     },
     "execution_count": 51,
     "metadata": {},
     "output_type": "execute_result"
    }
   ],
   "source": [
    "len(df)"
   ]
  },
  {
   "cell_type": "code",
   "execution_count": 18,
   "metadata": {},
   "outputs": [
    {
     "data": {
      "text/html": [
       "<div>\n",
       "<style scoped>\n",
       "    .dataframe tbody tr th:only-of-type {\n",
       "        vertical-align: middle;\n",
       "    }\n",
       "\n",
       "    .dataframe tbody tr th {\n",
       "        vertical-align: top;\n",
       "    }\n",
       "\n",
       "    .dataframe thead th {\n",
       "        text-align: right;\n",
       "    }\n",
       "</style>\n",
       "<table border=\"1\" class=\"dataframe\">\n",
       "  <thead>\n",
       "    <tr style=\"text-align: right;\">\n",
       "      <th></th>\n",
       "      <th>AI_DATE</th>\n",
       "      <th>AC_MODEL</th>\n",
       "      <th>AC_SN</th>\n",
       "      <th>DIVERTED_LANDING</th>\n",
       "      <th>AIR_TURN_BACK</th>\n",
       "      <th>REJECTED_TAKE_OFF</th>\n",
       "      <th>GROUND_TURN_BACK</th>\n",
       "      <th>ABORTED_APPROACH</th>\n",
       "      <th>EMERGENCY_DESCENT</th>\n",
       "      <th>SMOKE</th>\n",
       "      <th>...</th>\n",
       "      <th>GEN_AIR_INTERRUPT</th>\n",
       "      <th>GEN_GROUND_INTERRUPT</th>\n",
       "      <th>ATA_SYMPTOM</th>\n",
       "      <th>ATA_CAUSE</th>\n",
       "      <th>INTERRUPTION_REASON</th>\n",
       "      <th>CORRECTIVE_ACTION</th>\n",
       "      <th>AI_ID</th>\n",
       "      <th>EDITED_BY</th>\n",
       "      <th>ATA_CHAPTER</th>\n",
       "      <th>ATA_CHAPTER_CAUSE</th>\n",
       "    </tr>\n",
       "  </thead>\n",
       "  <tbody>\n",
       "    <tr>\n",
       "      <th>1</th>\n",
       "      <td>30-Mar-20</td>\n",
       "      <td>CRJ700</td>\n",
       "      <td>15125</td>\n",
       "      <td>0</td>\n",
       "      <td>N</td>\n",
       "      <td>N</td>\n",
       "      <td>Y</td>\n",
       "      <td>N</td>\n",
       "      <td>N</td>\n",
       "      <td>N</td>\n",
       "      <td>...</td>\n",
       "      <td>N</td>\n",
       "      <td>N</td>\n",
       "      <td>2431.0</td>\n",
       "      <td>243101</td>\n",
       "      <td>TRU FAN FAIL - STATUS</td>\n",
       "      <td>DEFERRED - REPLACED TRU</td>\n",
       "      <td>590932</td>\n",
       "      <td>T12540</td>\n",
       "      <td>24</td>\n",
       "      <td>24</td>\n",
       "    </tr>\n",
       "    <tr>\n",
       "      <th>2</th>\n",
       "      <td>30-Mar-20</td>\n",
       "      <td>CRJ700</td>\n",
       "      <td>10176</td>\n",
       "      <td>0</td>\n",
       "      <td>N</td>\n",
       "      <td>N</td>\n",
       "      <td>Y</td>\n",
       "      <td>N</td>\n",
       "      <td>N</td>\n",
       "      <td>N</td>\n",
       "      <td>...</td>\n",
       "      <td>N</td>\n",
       "      <td>N</td>\n",
       "      <td>3613.0</td>\n",
       "      <td>361315</td>\n",
       "      <td>ISOL FAIL - CAUTION</td>\n",
       "      <td>REPLACED ISOLATION VALVE</td>\n",
       "      <td>590933</td>\n",
       "      <td>T12540</td>\n",
       "      <td>36</td>\n",
       "      <td>36</td>\n",
       "    </tr>\n",
       "    <tr>\n",
       "      <th>3</th>\n",
       "      <td>3-Apr-20</td>\n",
       "      <td>CRJ700</td>\n",
       "      <td>15046</td>\n",
       "      <td>0</td>\n",
       "      <td>N</td>\n",
       "      <td>N</td>\n",
       "      <td>Y</td>\n",
       "      <td>N</td>\n",
       "      <td>N</td>\n",
       "      <td>N</td>\n",
       "      <td>...</td>\n",
       "      <td>N</td>\n",
       "      <td>N</td>\n",
       "      <td>3022.0</td>\n",
       "      <td>302201</td>\n",
       "      <td>Incident: RTRN L COWL ANTI ICE CAUTION MSG. L ...</td>\n",
       "      <td>(Resolved On W/O: 684248 Taskcard: NR-00001 ) ...</td>\n",
       "      <td>591076</td>\n",
       "      <td>T12540</td>\n",
       "      <td>30</td>\n",
       "      <td>30</td>\n",
       "    </tr>\n",
       "    <tr>\n",
       "      <th>4</th>\n",
       "      <td>8-Apr-20</td>\n",
       "      <td>CRJ700</td>\n",
       "      <td>15044</td>\n",
       "      <td>0</td>\n",
       "      <td>N</td>\n",
       "      <td>N</td>\n",
       "      <td>Y</td>\n",
       "      <td>N</td>\n",
       "      <td>N</td>\n",
       "      <td>N</td>\n",
       "      <td>...</td>\n",
       "      <td>N</td>\n",
       "      <td>N</td>\n",
       "      <td>213108.0</td>\n",
       "      <td>213108</td>\n",
       "      <td>Incident: RTRN OVBD COOL CAUTION MESSAGE DISPL...</td>\n",
       "      <td>(Resolved On W/O: 684350 Taskcard: NR-00001 ) ...</td>\n",
       "      <td>591077</td>\n",
       "      <td>T12540</td>\n",
       "      <td>21</td>\n",
       "      <td>21</td>\n",
       "    </tr>\n",
       "    <tr>\n",
       "      <th>5</th>\n",
       "      <td>10-Apr-20</td>\n",
       "      <td>CRJ700</td>\n",
       "      <td>15037</td>\n",
       "      <td>0</td>\n",
       "      <td>N</td>\n",
       "      <td>Y</td>\n",
       "      <td>N</td>\n",
       "      <td>N</td>\n",
       "      <td>N</td>\n",
       "      <td>N</td>\n",
       "      <td>...</td>\n",
       "      <td>N</td>\n",
       "      <td>N</td>\n",
       "      <td>5270.0</td>\n",
       "      <td>5270</td>\n",
       "      <td>Incident: ABRT R AFT EMER DOOR CAUTION MSG DUR...</td>\n",
       "      <td>(Resolved On W/O: 684680 Taskcard: NR-00002 ) ...</td>\n",
       "      <td>591078</td>\n",
       "      <td>T12540</td>\n",
       "      <td>52</td>\n",
       "      <td>52</td>\n",
       "    </tr>\n",
       "  </tbody>\n",
       "</table>\n",
       "<p>5 rows × 22 columns</p>\n",
       "</div>"
      ],
      "text/plain": [
       "     AI_DATE AC_MODEL  AC_SN  DIVERTED_LANDING AIR_TURN_BACK  \\\n",
       "1  30-Mar-20   CRJ700  15125                 0             N   \n",
       "2  30-Mar-20   CRJ700  10176                 0             N   \n",
       "3   3-Apr-20   CRJ700  15046                 0             N   \n",
       "4   8-Apr-20   CRJ700  15044                 0             N   \n",
       "5  10-Apr-20   CRJ700  15037                 0             N   \n",
       "\n",
       "  REJECTED_TAKE_OFF GROUND_TURN_BACK ABORTED_APPROACH EMERGENCY_DESCENT SMOKE  \\\n",
       "1                 N                Y                N                 N     N   \n",
       "2                 N                Y                N                 N     N   \n",
       "3                 N                Y                N                 N     N   \n",
       "4                 N                Y                N                 N     N   \n",
       "5                 Y                N                N                 N     N   \n",
       "\n",
       "   ... GEN_AIR_INTERRUPT GEN_GROUND_INTERRUPT ATA_SYMPTOM ATA_CAUSE  \\\n",
       "1  ...                 N                    N      2431.0    243101   \n",
       "2  ...                 N                    N      3613.0    361315   \n",
       "3  ...                 N                    N      3022.0    302201   \n",
       "4  ...                 N                    N    213108.0    213108   \n",
       "5  ...                 N                    N      5270.0      5270   \n",
       "\n",
       "                                 INTERRUPTION_REASON  \\\n",
       "1                              TRU FAN FAIL - STATUS   \n",
       "2                                ISOL FAIL - CAUTION   \n",
       "3  Incident: RTRN L COWL ANTI ICE CAUTION MSG. L ...   \n",
       "4  Incident: RTRN OVBD COOL CAUTION MESSAGE DISPL...   \n",
       "5  Incident: ABRT R AFT EMER DOOR CAUTION MSG DUR...   \n",
       "\n",
       "                                   CORRECTIVE_ACTION   AI_ID EDITED_BY  \\\n",
       "1                            DEFERRED - REPLACED TRU  590932    T12540   \n",
       "2                           REPLACED ISOLATION VALVE  590933    T12540   \n",
       "3  (Resolved On W/O: 684248 Taskcard: NR-00001 ) ...  591076    T12540   \n",
       "4  (Resolved On W/O: 684350 Taskcard: NR-00001 ) ...  591077    T12540   \n",
       "5  (Resolved On W/O: 684680 Taskcard: NR-00002 ) ...  591078    T12540   \n",
       "\n",
       "  ATA_CHAPTER ATA_CHAPTER_CAUSE  \n",
       "1          24                24  \n",
       "2          36                36  \n",
       "3          30                30  \n",
       "4          21                21  \n",
       "5          52                52  \n",
       "\n",
       "[5 rows x 22 columns]"
      ]
     },
     "execution_count": 18,
     "metadata": {},
     "output_type": "execute_result"
    }
   ],
   "source": [
    "#df = df.drop(['Unnamed: 23', 'EDIT_DATE','EDIT_DATE','OPERATOR_CODE','EVENT_RECORD_IDENTIFIER'], axis=1)\n",
    "df = df.drop(['AI_DATE_1'],axis=1)\n",
    "df.head()"
   ]
  },
  {
   "cell_type": "code",
   "execution_count": 17,
   "metadata": {},
   "outputs": [
    {
     "data": {
      "text/plain": [
       "<matplotlib.axes._subplots.AxesSubplot at 0x24cee6c85e0>"
      ]
     },
     "execution_count": 17,
     "metadata": {},
     "output_type": "execute_result"
    },
    {
     "data": {
      "image/png": "[encoded data removed]",
      "text/plain": [
       "<Figure size 432x288 with 2 Axes>"
      ]
     },
     "metadata": {
      "needs_background": "light"
     },
     "output_type": "display_data"
    }
   ],
   "source": [
    "#df['ATA_SYMPTOM'].isnull().sum()\n",
    "#half oof them are just a space(nan)\n",
    "import seaborn as sns\n",
    "sns.heatmap(df.isnull())"
   ]
  },
  {
   "cell_type": "markdown",
   "metadata": {},
   "source": [
    "Numbers of null value in these columns.\n",
    "There are 28819 rows with empty ATA_SYMPTOM values(total  rows: 51780)\n",
    "There are 7838 rows with empty CORRECTIVE_ACTION"
   ]
  },
  {
   "cell_type": "markdown",
   "metadata": {},
   "source": [
    "print(df['ATA_SYMPTOM'].isna().sum())\n",
    "print(df['ATA_CAUSE'].isna().sum())\n",
    "print(df['CORRECTIVE_ACTION'].isna().sum())"
   ]
  },
  {
   "cell_type": "code",
   "execution_count": 14,
   "metadata": {},
   "outputs": [],
   "source": [
    "d = {'Y':1,'N':0}\n",
    "df['DIVERTED_LANDING'] = df['DIVERTED_LANDING'].map(d)"
   ]
  },
  {
   "cell_type": "code",
   "execution_count": null,
   "metadata": {},
   "outputs": [],
   "source": [
    "How many categories do we have?"
   ]
  },
  {
   "cell_type": "code",
   "execution_count": 19,
   "metadata": {},
   "outputs": [
    {
     "data": {
      "text/plain": [
       "498"
      ]
     },
     "execution_count": 19,
     "metadata": {},
     "output_type": "execute_result"
    }
   ],
   "source": [
    "df['ATA_SYMPTOM'].nunique()"
   ]
  },
  {
   "cell_type": "code",
   "execution_count": 20,
   "metadata": {},
   "outputs": [
    {
     "data": {
      "text/plain": [
       "1644"
      ]
     },
     "execution_count": 20,
     "metadata": {},
     "output_type": "execute_result"
    }
   ],
   "source": [
    "df['ATA_CAUSE'].nunique()"
   ]
  },
  {
   "cell_type": "code",
   "execution_count": 32,
   "metadata": {},
   "outputs": [],
   "source": [
    "df = df.astype({\"ATA_SYMPTOM\": 'str', \"ATA_CAUSE\": 'str'}) \n",
    "\n",
    "df['ATA_CHAPTER'] =  [x[:2] for x in df['ATA_SYMPTOM']]"
   ]
  },
  {
   "cell_type": "code",
   "execution_count": 34,
   "metadata": {},
   "outputs": [
    {
     "data": {
      "text/plain": [
       "42"
      ]
     },
     "execution_count": 34,
     "metadata": {},
     "output_type": "execute_result"
    }
   ],
   "source": [
    "df['ATA_CHAPTER'].nunique()"
   ]
  },
  {
   "cell_type": "code",
   "execution_count": null,
   "metadata": {},
   "outputs": [],
   "source": []
  },
  {
   "cell_type": "code",
   "execution_count": 36,
   "metadata": {},
   "outputs": [
    {
     "data": {
      "text/plain": [
       "array(['30', '24', '36', '21', '52', '32', '27', '29', '49', '23', '31',\n",
       "       '56', '0.', '80', '28', '20', '79', '34', '53', '78', '22', '25',\n",
       "       '12', '72', '71', '77', '74', '33', '76', '26', '55', '35', '51',\n",
       "       '38', 'na', '75', '73', '11', '57', '45', '54', '10'], dtype=object)"
      ]
     },
     "execution_count": 36,
     "metadata": {},
     "output_type": "execute_result"
    }
   ],
   "source": [
    "df.ATA_CHAPTER.unique()\n",
    "#INLCUDE NA AND ZERO"
   ]
  },
  {
   "cell_type": "code",
   "execution_count": 37,
   "metadata": {},
   "outputs": [],
   "source": [
    "df['ATA_CHAPTER_CAUSE'] =  [x[:2] for x in df['ATA_CAUSE']]"
   ]
  },
  {
   "cell_type": "code",
   "execution_count": 38,
   "metadata": {},
   "outputs": [
    {
     "data": {
      "text/plain": [
       "44"
      ]
     },
     "execution_count": 38,
     "metadata": {},
     "output_type": "execute_result"
    }
   ],
   "source": [
    "df['ATA_CHAPTER_CAUSE'].nunique()"
   ]
  },
  {
   "cell_type": "code",
   "execution_count": 40,
   "metadata": {},
   "outputs": [],
   "source": [
    "df['AI_DATE_1'] =  [x[-2:] for x in df['AI_DATE']]"
   ]
  },
  {
   "cell_type": "code",
   "execution_count": 41,
   "metadata": {},
   "outputs": [
    {
     "data": {
      "text/plain": [
       "0        20\n",
       "1        20\n",
       "2        20\n",
       "3        20\n",
       "4        20\n",
       "         ..\n",
       "51776    19\n",
       "51777    19\n",
       "51778    19\n",
       "51779    19\n",
       "51780    19\n",
       "Name: AI_DATE_1, Length: 51781, dtype: object"
      ]
     },
     "execution_count": 41,
     "metadata": {},
     "output_type": "execute_result"
    }
   ],
   "source": [
    "df['AI_DATE_1']"
   ]
  },
  {
   "cell_type": "code",
   "execution_count": 42,
   "metadata": {},
   "outputs": [],
   "source": [
    "from collections import Counter\n",
    "c = Counter(df['AI_DATE_1'])"
   ]
  },
  {
   "cell_type": "code",
   "execution_count": 46,
   "metadata": {},
   "outputs": [
    {
     "data": {
      "text/plain": [
       "Counter({'20': 2345,\n",
       "         '19': 3851,\n",
       "         '10': 6588,\n",
       "         '09': 5968,\n",
       "         '15': 3448,\n",
       "         '14': 3971,\n",
       "         '13': 4150,\n",
       "         '12': 4578,\n",
       "         '11': 5112,\n",
       "         '16': 4199,\n",
       "         '17': 4082,\n",
       "         '18': 3489})"
      ]
     },
     "execution_count": 46,
     "metadata": {},
     "output_type": "execute_result"
    }
   ],
   "source": [
    "c"
   ]
  },
  {
   "cell_type": "code",
   "execution_count": 47,
   "metadata": {},
   "outputs": [],
   "source": [
    "df.to_csv('AI.csv')"
   ]
  },
  {
   "cell_type": "code",
   "execution_count": 13,
   "metadata": {},
   "outputs": [
    {
     "data": {
      "text/plain": [
       "240       2924\n",
       "200       1231\n",
       "276105     940\n",
       "3251       836\n",
       "0          664\n",
       "          ... \n",
       "524106       1\n",
       "324205       1\n",
       "351205       1\n",
       "276109       1\n",
       "252206       1\n",
       "Name: ATA_CAUSE, Length: 1644, dtype: int64"
      ]
     },
     "execution_count": 13,
     "metadata": {},
     "output_type": "execute_result"
    }
   ],
   "source": [
    "df['ATA_CAUSE'].value_counts()"
   ]
  },
  {
   "cell_type": "code",
   "execution_count": 14,
   "metadata": {},
   "outputs": [
    {
     "data": {
      "text/plain": [
       "240     2859\n",
       "3251     835\n",
       "8011     813\n",
       "3231     670\n",
       "0        664\n",
       "5270     527\n",
       "2151     504\n",
       "200      498\n",
       "3621     440\n",
       "2751     421\n",
       "Name: ATA_SYMPTOM, dtype: int64"
      ]
     },
     "execution_count": 14,
     "metadata": {},
     "output_type": "execute_result"
    }
   ],
   "source": [
    "df['ATA_SYMPTOM'].value_counts().head(10)"
   ]
  },
  {
   "cell_type": "code",
   "execution_count": 10,
   "metadata": {},
   "outputs": [],
   "source": [
    "#df['ATA_SYMPTOM'].value_counts().sort_index()"
   ]
  },
  {
   "cell_type": "code",
   "execution_count": null,
   "metadata": {},
   "outputs": [],
   "source": []
  }
 ],
 "metadata": {
  "kernelspec": {
   "display_name": "Python 3",
   "language": "python",
   "name": "python3"
  },
  "language_info": {
   "codemirror_mode": {
    "name": "ipython",
    "version": 3
   },
   "file_extension": ".py",
   "mimetype": "text/x-python",
   "name": "python",
   "nbconvert_exporter": "python",
   "pygments_lexer": "ipython3",
   "version": "3.8.3"
  }
 },
 "nbformat": 4,
 "nbformat_minor": 4
}
