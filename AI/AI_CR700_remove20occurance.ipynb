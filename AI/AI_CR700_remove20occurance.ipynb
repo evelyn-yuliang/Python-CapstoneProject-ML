{
 "cells": [
  {
   "cell_type": "code",
   "execution_count": 72,
   "metadata": {},
   "outputs": [],
   "source": [
    "import numpy as np\n",
    "import pandas as pd\n",
    "\n",
    "df = pd.read_csv(\"CRJ700.csv\",header=0)"
   ]
  },
  {
   "cell_type": "code",
   "execution_count": 73,
   "metadata": {},
   "outputs": [
    {
     "data": {
      "text/plain": [
       "Counter({'20': 1622,\n",
       "         '19': 2331,\n",
       "         '10': 3129,\n",
       "         '09': 2614,\n",
       "         '15': 1573,\n",
       "         '14': 1595,\n",
       "         '13': 1637,\n",
       "         '12': 1765,\n",
       "         '11': 2070,\n",
       "         '16': 2513,\n",
       "         '17': 2542,\n",
       "         '18': 2305})"
      ]
     },
     "execution_count": 73,
     "metadata": {},
     "output_type": "execute_result"
    }
   ],
   "source": [
    "# from collections import Counter\n",
    "# df['AI_DATE_1'] =  [x[-2:] for x in df['AI_DATE']]\n",
    "# c = Counter(df['AI_DATE_1'])\n",
    "# c"
   ]
  },
  {
   "cell_type": "code",
   "execution_count": 74,
   "metadata": {},
   "outputs": [
    {
     "name": "stdout",
     "output_type": "stream",
     "text": [
      "<class 'pandas.core.frame.DataFrame'>\n",
      "RangeIndex: 25696 entries, 0 to 25695\n",
      "Data columns (total 29 columns):\n",
      " #   Column                   Non-Null Count  Dtype  \n",
      "---  ------                   --------------  -----  \n",
      " 0   Unnamed: 0               25696 non-null  int64  \n",
      " 1   Unnamed: 0.1             25696 non-null  int64  \n",
      " 2   AI_DATE                  25696 non-null  object \n",
      " 3   AC_MODEL                 25696 non-null  object \n",
      " 4   AC_SN                    25696 non-null  int64  \n",
      " 5   OPERATOR_CODE            25696 non-null  object \n",
      " 6   EVENT_RECORD_IDENTIFIER  4358 non-null   object \n",
      " 7   DIVERTED_LANDING         25696 non-null  int64  \n",
      " 8   AIR_TURN_BACK            25696 non-null  object \n",
      " 9   REJECTED_TAKE_OFF        25696 non-null  object \n",
      " 10  GROUND_TURN_BACK         25696 non-null  object \n",
      " 11  ABORTED_APPROACH         25696 non-null  object \n",
      " 12  EMERGENCY_DESCENT        25696 non-null  object \n",
      " 13  SMOKE                    25696 non-null  object \n",
      " 14  EMERGENCY_LANDING        25696 non-null  object \n",
      " 15  INFLIGHT_SHUTDOWN        25696 non-null  object \n",
      " 16  GEN_AIR_INTERRUPT        25696 non-null  object \n",
      " 17  GEN_GROUND_INTERRUPT     25696 non-null  object \n",
      " 18  ATA_SYMPTOM              13454 non-null  float64\n",
      " 19  ATA_CAUSE                25696 non-null  int64  \n",
      " 20  INTERRUPTION_REASON      25696 non-null  object \n",
      " 21  CORRECTIVE_ACTION        20481 non-null  object \n",
      " 22  AI_ID                    25695 non-null  float64\n",
      " 23  EDIT_DATE                25695 non-null  object \n",
      " 24  EDITED_BY                25695 non-null  object \n",
      " 25  Unnamed: 23              0 non-null      float64\n",
      " 26  ATA_CHAPTER              25696 non-null  object \n",
      " 27  ATA_CHAPTER_CAUSE        25696 non-null  int64  \n",
      " 28  AI_DATE_1                25696 non-null  object \n",
      "dtypes: float64(3), int64(6), object(20)\n",
      "memory usage: 5.7+ MB\n"
     ]
    }
   ],
   "source": [
    "df.info()"
   ]
  },
  {
   "cell_type": "code",
   "execution_count": 103,
   "metadata": {},
   "outputs": [],
   "source": [
    "filter_year =['13','14','15','16','17','18','19','20']"
   ]
  },
  {
   "cell_type": "code",
   "execution_count": 104,
   "metadata": {},
   "outputs": [],
   "source": [
    "df1 = df[df['AI_DATE_1'].isin(filter_year)]"
   ]
  },
  {
   "cell_type": "code",
   "execution_count": 96,
   "metadata": {},
   "outputs": [
    {
     "data": {
      "text/plain": [
       "14481"
      ]
     },
     "execution_count": 96,
     "metadata": {},
     "output_type": "execute_result"
    }
   ],
   "source": [
    "len(df1)"
   ]
  },
  {
   "cell_type": "code",
   "execution_count": 116,
   "metadata": {},
   "outputs": [],
   "source": [
    "df1 = df.dropna(axis=0, subset=['ATA_SYMPTOM'])"
   ]
  },
  {
   "cell_type": "code",
   "execution_count": 117,
   "metadata": {},
   "outputs": [
    {
     "data": {
      "text/plain": [
       "25696"
      ]
     },
     "execution_count": 117,
     "metadata": {},
     "output_type": "execute_result"
    }
   ],
   "source": [
    "len(df)"
   ]
  },
  {
   "cell_type": "code",
   "execution_count": 41,
   "metadata": {},
   "outputs": [
    {
     "data": {
      "text/plain": [
       "13454"
      ]
     },
     "execution_count": 41,
     "metadata": {},
     "output_type": "execute_result"
    }
   ],
   "source": [
    "len(df1)"
   ]
  },
  {
   "cell_type": "code",
   "execution_count": null,
   "metadata": {},
   "outputs": [],
   "source": []
  },
  {
   "cell_type": "code",
   "execution_count": 53,
   "metadata": {},
   "outputs": [],
   "source": [
    "filter_num_ata_sym =[\n",
    "200]"
   ]
  },
  {
   "cell_type": "code",
   "execution_count": 54,
   "metadata": {},
   "outputs": [],
   "source": [
    "#df1= df1[df1['ATA_SYMPTOM'].isin(filter_num_ata_sym)]\n",
    "df1= df1[~df1['ATA_SYMPTOM'].isin(filter_num_ata_sym)]"
   ]
  },
  {
   "cell_type": "code",
   "execution_count": 55,
   "metadata": {},
   "outputs": [
    {
     "data": {
      "text/plain": [
       "13122"
      ]
     },
     "execution_count": 55,
     "metadata": {},
     "output_type": "execute_result"
    }
   ],
   "source": [
    "#remove less than 20 --> 13454--> 12421\n",
    "#remove less than 30 --> 13454 --> 11971\n",
    "#remove less than 40 --> 13454 --> 11480\n",
    "#remove less than 50 --> 13454 --> 11211\n",
    "#remove less than 60 -> 13454 --> 10815\n",
    "#remove less than 70 -->13454 --> 10438\n",
    "#remove less than 80 --> 13454 --> 10133\n",
    "#remove less than 90 --> 13454 --> 9625 (38 class)\n",
    "#remove less than 100 --> 13454 --  9250 (34 class)\n",
    "#remove less than 110 --> 13454 --> 9140( 33 class)\n",
    "len(df1)"
   ]
  },
  {
   "cell_type": "code",
   "execution_count": 118,
   "metadata": {},
   "outputs": [
    {
     "name": "stderr",
     "output_type": "stream",
     "text": [
      "<ipython-input-118-54107de23af3>:14: SettingWithCopyWarning: \n",
      "A value is trying to be set on a copy of a slice from a DataFrame.\n",
      "Try using .loc[row_indexer,col_indexer] = value instead\n",
      "\n",
      "See the caveats in the documentation: https://pandas.pydata.org/pandas-docs/stable/user_guide/indexing.html#returning-a-view-versus-a-copy\n",
      "  df1['INTERRUPTION_REASON_1'] = df1.apply(identify_tokens1, axis=1)\n"
     ]
    }
   ],
   "source": [
    "import re\n",
    "import nltk\n",
    "from nltk.stem import PorterStemmer\n",
    "stemmer = PorterStemmer()\n",
    "def identify_tokens1(df):\n",
    "    comment = df['INTERRUPTION_REASON']\n",
    "    comment = re.sub(r'\\W',' ',comment)\n",
    "    comment = re.sub(r'\\s+',' ', comment)\n",
    "    #words = nltk.word_tokenize(comment)\n",
    "    #new_words = [stemmer.stem(word) for word in words]\n",
    "    #comment = ' '.join(new_words)\n",
    "    return comment\n",
    "\n",
    "df1['INTERRUPTION_REASON_1'] = df1.apply(identify_tokens1, axis=1)"
   ]
  },
  {
   "cell_type": "code",
   "execution_count": 123,
   "metadata": {},
   "outputs": [],
   "source": [
    "from sklearn.model_selection import train_test_split\n",
    "X = df1['INTERRUPTION_REASON_1']\n",
    "y = df1['ATA_SYMPTOM']\n",
    "X_train, X_test, y_train, y_test = train_test_split(X, y, test_size=0.1, random_state=42)"
   ]
  },
  {
   "cell_type": "code",
   "execution_count": 57,
   "metadata": {},
   "outputs": [
    {
     "data": {
      "text/plain": [
       "14649    BRAKE OVHT WARNING RIGHT AFTER T O STARTED 15 ...\n",
       "18664    DENT FOUND BETWEEN FS349 00 AND FS364 00 STRG1...\n",
       "3486          IDG 1 GEN 1 AC BUS 1 MAGENTA FAULT IN FLIGHT\n",
       "20162                          RH low oil pressure warning\n",
       "4974     INBRD FLT SPOILER AND INBRD FAULT STAT MSGS GA...\n",
       "                               ...                        \n",
       "24478                             BIRD STRIKE ON L WINGLET\n",
       "17110                      RTG TUG STRAP BROKE DURING PUSH\n",
       "17428    AFT CARGO SOV STATUS MSG APPEARS WHEN THE CARG...\n",
       "3835               L ENG VIB FAULT GATE RETURN FLT 4974 CX\n",
       "19625                    NLG STEERING INOP CAU MSG RTG MIS\n",
       "Name: INTERRUPTION_REASON_1, Length: 11809, dtype: object"
      ]
     },
     "execution_count": 57,
     "metadata": {},
     "output_type": "execute_result"
    }
   ],
   "source": [
    "X_train"
   ]
  },
  {
   "cell_type": "code",
   "execution_count": 10,
   "metadata": {},
   "outputs": [
    {
     "data": {
      "text/plain": [
       "Series([], Name: INTERRUPTION_REASON_1, dtype: object)"
      ]
     },
     "execution_count": 10,
     "metadata": {},
     "output_type": "execute_result"
    }
   ],
   "source": [
    "#REMOVE 20--> 10953\n",
    "#b = y_train.index[y_train.isin(filter_num_ata_sym)]\n",
    "#X_train = X_train.filter(b)\n",
    "#X_train"
   ]
  },
  {
   "cell_type": "code",
   "execution_count": 51,
   "metadata": {},
   "outputs": [
    {
     "data": {
      "text/plain": [
       "14649    BRAKE OVHT WARNING RIGHT AFTER T O STARTED 15 ...\n",
       "18664    DENT FOUND BETWEEN FS349 00 AND FS364 00 STRG1...\n",
       "3486          IDG 1 GEN 1 AC BUS 1 MAGENTA FAULT IN FLIGHT\n",
       "20162                          RH low oil pressure warning\n",
       "4974     INBRD FLT SPOILER AND INBRD FAULT STAT MSGS GA...\n",
       "                               ...                        \n",
       "24478                             BIRD STRIKE ON L WINGLET\n",
       "17110                      RTG TUG STRAP BROKE DURING PUSH\n",
       "17428    AFT CARGO SOV STATUS MSG APPEARS WHEN THE CARG...\n",
       "3835               L ENG VIB FAULT GATE RETURN FLT 4974 CX\n",
       "19625                    NLG STEERING INOP CAU MSG RTG MIS\n",
       "Name: INTERRUPTION_REASON_1, Length: 11809, dtype: object"
      ]
     },
     "execution_count": 51,
     "metadata": {},
     "output_type": "execute_result"
    }
   ],
   "source": [
    "#X_train= X_train[~X_train.isin(filter_num_ata_sym)]\n",
    "X_train"
   ]
  },
  {
   "cell_type": "code",
   "execution_count": 33,
   "metadata": {},
   "outputs": [
    {
     "data": {
      "text/plain": [
       "14649      3246.0\n",
       "18664      5321.0\n",
       "3486       2411.0\n",
       "20162      7931.0\n",
       "4974     276201.0\n",
       "           ...   \n",
       "24478       240.0\n",
       "17110      3221.0\n",
       "17428      2155.0\n",
       "3835       7221.0\n",
       "19625      3251.0\n",
       "Name: ATA_SYMPTOM, Length: 11809, dtype: float64"
      ]
     },
     "execution_count": 33,
     "metadata": {},
     "output_type": "execute_result"
    }
   ],
   "source": [
    "#y_train = y_train[y_train.isin(filter_num_ata_sym)]\n",
    "y_train"
   ]
  },
  {
   "cell_type": "code",
   "execution_count": 131,
   "metadata": {},
   "outputs": [],
   "source": [
    "#"
   ]
  },
  {
   "cell_type": "code",
   "execution_count": 146,
   "metadata": {},
   "outputs": [
    {
     "data": {
      "text/plain": [
       "Pipeline(steps=[('tfidf',\n",
       "                 TfidfVectorizer(max_features=10000, stop_words='english')),\n",
       "                ('clf', LinearSVC())])"
      ]
     },
     "execution_count": 146,
     "metadata": {},
     "output_type": "execute_result"
    }
   ],
   "source": [
    "from sklearn.feature_extraction.text import TfidfVectorizer\n",
    "from sklearn.svm import LinearSVC\n",
    "from sklearn.pipeline import Pipeline\n",
    "text_clf = Pipeline([('tfidf',TfidfVectorizer(max_features=10000,stop_words='english')),('clf',LinearSVC())])\n",
    "text_clf.fit(X_train,y_train)"
   ]
  },
  {
   "cell_type": "code",
   "execution_count": 144,
   "metadata": {},
   "outputs": [],
   "source": [
    "predictions = text_clf.predict(X_test)"
   ]
  },
  {
   "cell_type": "code",
   "execution_count": 114,
   "metadata": {},
   "outputs": [],
   "source": [
    "#df1[df1['ATA_SYMPTOM']==200]"
   ]
  },
  {
   "cell_type": "code",
   "execution_count": 145,
   "metadata": {},
   "outputs": [
    {
     "data": {
      "text/plain": [
       "0.8053491827637445"
      ]
     },
     "execution_count": 145,
     "metadata": {},
     "output_type": "execute_result"
    }
   ],
   "source": [
    "from sklearn import metrics\n",
    "metrics.confusion_matrix(y_test,predictions)\n",
    "metrics.accuracy_score(y_test,predictions)"
   ]
  },
  {
   "cell_type": "code",
   "execution_count": 85,
   "metadata": {},
   "outputs": [],
   "source": [
    "#"
   ]
  },
  {
   "cell_type": "code",
   "execution_count": 161,
   "metadata": {},
   "outputs": [],
   "source": [
    "filter_num_ata_cause =[\n",
    "  0,\n",
    "200,\n",
    "240,\n",
    "320,\n",
    "520,\n",
    "550,\n",
    "2122,\n",
    "2123,\n",
    "2124,\n",
    "2131,\n",
    "2150,\n",
    "2151,\n",
    "2152,\n",
    "2155,\n",
    "2161,\n",
    "2211,\n",
    "2222,\n",
    "2331,\n",
    "2351,\n",
    "2411,\n",
    "2431,\n",
    "2432,\n",
    "2451,\n",
    "2461,\n",
    "2511,\n",
    "2521,\n",
    "2532,\n",
    "2617,\n",
    "2711,\n",
    "2712,\n",
    "2721,\n",
    "2722,\n",
    "2725,\n",
    "2731,\n",
    "2735,\n",
    "2742,\n",
    "2751,\n",
    "2752,\n",
    "2761,\n",
    "2762,\n",
    "2781,\n",
    "2811,\n",
    "2824,\n",
    "2825,\n",
    "2826,\n",
    "2841,\n",
    "2842,\n",
    "2911,\n",
    "2912,\n",
    "2917,\n",
    "3012,\n",
    "3022,\n",
    "3032,\n",
    "3041,\n",
    "3042,\n",
    "3081,\n",
    "3141,\n",
    "3161,\n",
    "3211,\n",
    "3221,\n",
    "3231,\n",
    "3232,\n",
    "3243,\n",
    "3244,\n",
    "3245,\n",
    "3246,\n",
    "3251,\n",
    "3261,\n",
    "3321,\n",
    "3411,\n",
    "3413,\n",
    "3421,\n",
    "3425,\n",
    "3444,\n",
    "3461,\n",
    "3511,\n",
    "3613,\n",
    "3621,\n",
    "3811,\n",
    "3831,\n",
    "4914,\n",
    "4920,\n",
    "4931,\n",
    "4941,\n",
    "4951,\n",
    "4961,\n",
    "4991,\n",
    "5211,\n",
    "5221,\n",
    "5231,\n",
    "5235,\n",
    "5241,\n",
    "5245,\n",
    "5270,\n",
    "5611,\n",
    "7200,\n",
    "7221,\n",
    "7311,\n",
    "7321,\n",
    "7411,\n",
    "7611,\n",
    "7721,\n",
    "7831,\n",
    "7912,\n",
    "7931,\n",
    "8011,\n",
    "212210,\n",
    "212393,\n",
    "212412,\n",
    "213102,\n",
    "213108,\n",
    "213110,\n",
    "215101,\n",
    "215114,\n",
    "215208,\n",
    "215502,\n",
    "216104,\n",
    "221214,\n",
    "222201,\n",
    "231101,\n",
    "232205,\n",
    "233101,\n",
    "233107,\n",
    "235104,\n",
    "241101,\n",
    "241102,\n",
    "243101,\n",
    "243201,\n",
    "243203,\n",
    "243205,\n",
    "246209,\n",
    "252101,\n",
    "252201,\n",
    "252605,\n",
    "253201,\n",
    "253202,\n",
    "261701,\n",
    "271205,\n",
    "271515,\n",
    "273501,\n",
    "273505,\n",
    "274105,\n",
    "274207,\n",
    "275105,\n",
    "275203,\n",
    "275246,\n",
    "276105,\n",
    "276201,\n",
    "278138,\n",
    "282426,\n",
    "284122,\n",
    "291101,\n",
    "291203,\n",
    "291701,\n",
    "293202,\n",
    "301202,\n",
    "301206,\n",
    "301212,\n",
    "302201,\n",
    "303205,\n",
    "304106,\n",
    "304207,\n",
    "308102,\n",
    "314104,\n",
    "316101,\n",
    "322101,\n",
    "322109,\n",
    "322115,\n",
    "323210,\n",
    "324101,\n",
    "324201,\n",
    "324301,\n",
    "324401,\n",
    "324406,\n",
    "324513,\n",
    "324601,\n",
    "325110,\n",
    "325150,\n",
    "325152,\n",
    "326101,\n",
    "326105,\n",
    "332103,\n",
    "332109,\n",
    "332313,\n",
    "341101,\n",
    "341201,\n",
    "341301,\n",
    "342101,\n",
    "344111,\n",
    "344401,\n",
    "344404,\n",
    "344407,\n",
    "344501,\n",
    "361205,\n",
    "361302,\n",
    "361315,\n",
    "361909,\n",
    "362101,\n",
    "362103,\n",
    "362119,\n",
    "491416,\n",
    "495101,\n",
    "496101,\n",
    "521123,\n",
    "523101,\n",
    "523103,\n",
    "523501,\n",
    "524536,\n",
    "527002,\n",
    "561101,\n",
    "561201,\n",
    "720001,\n",
    "722101,\n",
    "722110,\n",
    "732101,\n",
    "732103,\n",
    "741101,\n",
    "753101,\n",
    "772101,\n",
    "783001,\n",
    "783113,\n",
    "783209,\n",
    "793101,\n",
    "793103,\n",
    "801101,\n",
    "801103,\n",
    "]\n"
   ]
  },
  {
   "cell_type": "code",
   "execution_count": 21,
   "metadata": {},
   "outputs": [],
   "source": []
  },
  {
   "cell_type": "code",
   "execution_count": 154,
   "metadata": {},
   "outputs": [],
   "source": [
    "df['features'] = df['INTERRUPTION_REASON'].str.cat(df['CORRECTIVE_ACTION'], sep='  ',na_rep=' ')\n",
    "import re\n",
    "import nltk\n",
    "from nltk.stem import PorterStemmer\n",
    "stemmer = PorterStemmer()\n",
    "def identify_tokens1(df):\n",
    "    comment = df['features']\n",
    "    comment = re.sub(r'\\W',' ',comment)\n",
    "    #comment = re.sub(r'\\d',' ',comment)\n",
    "    comment = re.sub(r'\\s+',' ', comment)\n",
    "    words = nltk.word_tokenize(comment)\n",
    "    new_words = [stemmer.stem(word) for word in words]\n",
    "    comment = ' '.join(new_words)\n",
    "    return comment\n",
    "\n",
    "df['features_1'] = df.apply(identify_tokens1, axis=1)"
   ]
  },
  {
   "cell_type": "code",
   "execution_count": 155,
   "metadata": {},
   "outputs": [],
   "source": [
    "df = df.dropna(axis=0, subset=['features_1'])"
   ]
  },
  {
   "cell_type": "code",
   "execution_count": 156,
   "metadata": {},
   "outputs": [
    {
     "data": {
      "text/plain": [
       "25696"
      ]
     },
     "execution_count": 156,
     "metadata": {},
     "output_type": "execute_result"
    }
   ],
   "source": [
    "#REMOVE TEN 23696 -->23507\n",
    "#REMOVE 20 23696--> 21878\n",
    "len(df)"
   ]
  },
  {
   "cell_type": "code",
   "execution_count": 157,
   "metadata": {},
   "outputs": [],
   "source": [
    "#ata_cause -- interruption\n",
    "from sklearn.model_selection import train_test_split\n",
    "X = df['features_1']\n",
    "y = df['ATA_CAUSE']\n",
    "X_train, X_test, y_train, y_test = train_test_split(X, y, test_size=0.05, random_state=42)"
   ]
  },
  {
   "cell_type": "code",
   "execution_count": 162,
   "metadata": {},
   "outputs": [],
   "source": [
    "b = y_train.index[y_train.isin(filter_num_ata_cause)]\n",
    "X_train = X_train.filter(b)\n",
    "y_train = y_train[y_train.isin(filter_num_ata_cause)]"
   ]
  },
  {
   "cell_type": "code",
   "execution_count": 163,
   "metadata": {},
   "outputs": [
    {
     "data": {
      "text/plain": [
       "Pipeline(steps=[('tfidf',\n",
       "                 TfidfVectorizer(max_features=4730, stop_words='english')),\n",
       "                ('clf', LinearSVC())])"
      ]
     },
     "execution_count": 163,
     "metadata": {},
     "output_type": "execute_result"
    }
   ],
   "source": [
    "from sklearn.feature_extraction.text import TfidfVectorizer\n",
    "from sklearn.svm import LinearSVC\n",
    "from sklearn.pipeline import Pipeline\n",
    "text_clf = Pipeline([('tfidf',TfidfVectorizer(max_features=4730,stop_words='english')),('clf',LinearSVC())])\n",
    "text_clf.fit(X_train,y_train)"
   ]
  },
  {
   "cell_type": "code",
   "execution_count": 164,
   "metadata": {},
   "outputs": [
    {
     "data": {
      "text/plain": [
       "0.6132295719844358"
      ]
     },
     "execution_count": 164,
     "metadata": {},
     "output_type": "execute_result"
    }
   ],
   "source": [
    "predictions = text_clf.predict(X_test)\n",
    "from sklearn import metrics\n",
    "metrics.accuracy_score(y_test,predictions)"
   ]
  },
  {
   "cell_type": "code",
   "execution_count": null,
   "metadata": {},
   "outputs": [],
   "source": []
  }
 ],
 "metadata": {
  "kernelspec": {
   "display_name": "Python 3",
   "language": "python",
   "name": "python3"
  },
  "language_info": {
   "codemirror_mode": {
    "name": "ipython",
    "version": 3
   },
   "file_extension": ".py",
   "mimetype": "text/x-python",
   "name": "python",
   "nbconvert_exporter": "python",
   "pygments_lexer": "ipython3",
   "version": "3.8.3"
  }
 },
 "nbformat": 4,
 "nbformat_minor": 4
}
