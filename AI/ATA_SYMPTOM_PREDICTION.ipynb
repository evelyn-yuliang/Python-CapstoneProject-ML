{
 "cells": [
  {
   "cell_type": "code",
   "execution_count": 51,
   "metadata": {},
   "outputs": [
    {
     "name": "stderr",
     "output_type": "stream",
     "text": [
      "D:\\Programs\\anaconda3\\lib\\site-packages\\IPython\\core\\interactiveshell.py:3071: DtypeWarning: Columns (21,24) have mixed types.Specify dtype option on import or set low_memory=False.\n",
      "  has_raised = await self.run_ast_nodes(code_ast.body, cell_name,\n"
     ]
    }
   ],
   "source": [
    "import numpy as np\n",
    "import pandas as pd\n",
    "\n",
    "df = pd.read_csv(\"AI.csv\",header=0)"
   ]
  },
  {
   "cell_type": "code",
   "execution_count": 23,
   "metadata": {},
   "outputs": [
    {
     "data": {
      "text/html": [
       "<div>\n",
       "<style scoped>\n",
       "    .dataframe tbody tr th:only-of-type {\n",
       "        vertical-align: middle;\n",
       "    }\n",
       "\n",
       "    .dataframe tbody tr th {\n",
       "        vertical-align: top;\n",
       "    }\n",
       "\n",
       "    .dataframe thead th {\n",
       "        text-align: right;\n",
       "    }\n",
       "</style>\n",
       "<table border=\"1\" class=\"dataframe\">\n",
       "  <thead>\n",
       "    <tr style=\"text-align: right;\">\n",
       "      <th></th>\n",
       "      <th>Unnamed: 0</th>\n",
       "      <th>AI_DATE</th>\n",
       "      <th>AC_MODEL</th>\n",
       "      <th>AC_SN</th>\n",
       "      <th>OPERATOR_CODE</th>\n",
       "      <th>EVENT_RECORD_IDENTIFIER</th>\n",
       "      <th>DIVERTED_LANDING</th>\n",
       "      <th>AIR_TURN_BACK</th>\n",
       "      <th>REJECTED_TAKE_OFF</th>\n",
       "      <th>GROUND_TURN_BACK</th>\n",
       "      <th>...</th>\n",
       "      <th>ATA_CAUSE</th>\n",
       "      <th>INTERRUPTION_REASON</th>\n",
       "      <th>CORRECTIVE_ACTION</th>\n",
       "      <th>AI_ID</th>\n",
       "      <th>EDIT_DATE</th>\n",
       "      <th>EDITED_BY</th>\n",
       "      <th>Unnamed: 23</th>\n",
       "      <th>ATA_CHAPTER</th>\n",
       "      <th>ATA_CHAPTER_CAUSE</th>\n",
       "      <th>AI_DATE_1</th>\n",
       "    </tr>\n",
       "  </thead>\n",
       "  <tbody>\n",
       "    <tr>\n",
       "      <th>0</th>\n",
       "      <td>0</td>\n",
       "      <td>29-Mar-20</td>\n",
       "      <td>CRJ700</td>\n",
       "      <td>15299</td>\n",
       "      <td>EDV</td>\n",
       "      <td>NaN</td>\n",
       "      <td>0</td>\n",
       "      <td>N</td>\n",
       "      <td>N</td>\n",
       "      <td>Y</td>\n",
       "      <td>...</td>\n",
       "      <td>308102</td>\n",
       "      <td>ICE DET (X) FAIL - STATUS</td>\n",
       "      <td>DEFERRED - REPLACED ICE DETECTOR</td>\n",
       "      <td>590931</td>\n",
       "      <td>13-May-20</td>\n",
       "      <td>T12540</td>\n",
       "      <td>NaN</td>\n",
       "      <td>30</td>\n",
       "      <td>30</td>\n",
       "      <td>20</td>\n",
       "    </tr>\n",
       "    <tr>\n",
       "      <th>1</th>\n",
       "      <td>1</td>\n",
       "      <td>30-Mar-20</td>\n",
       "      <td>CRJ700</td>\n",
       "      <td>15125</td>\n",
       "      <td>EDV</td>\n",
       "      <td>NaN</td>\n",
       "      <td>0</td>\n",
       "      <td>N</td>\n",
       "      <td>N</td>\n",
       "      <td>Y</td>\n",
       "      <td>...</td>\n",
       "      <td>243101</td>\n",
       "      <td>TRU FAN FAIL - STATUS</td>\n",
       "      <td>DEFERRED - REPLACED TRU</td>\n",
       "      <td>590932</td>\n",
       "      <td>13-May-20</td>\n",
       "      <td>T12540</td>\n",
       "      <td>NaN</td>\n",
       "      <td>24</td>\n",
       "      <td>24</td>\n",
       "      <td>20</td>\n",
       "    </tr>\n",
       "    <tr>\n",
       "      <th>2</th>\n",
       "      <td>2</td>\n",
       "      <td>30-Mar-20</td>\n",
       "      <td>CRJ700</td>\n",
       "      <td>10176</td>\n",
       "      <td>EDV</td>\n",
       "      <td>NaN</td>\n",
       "      <td>0</td>\n",
       "      <td>N</td>\n",
       "      <td>N</td>\n",
       "      <td>Y</td>\n",
       "      <td>...</td>\n",
       "      <td>361315</td>\n",
       "      <td>ISOL FAIL - CAUTION</td>\n",
       "      <td>REPLACED ISOLATION VALVE</td>\n",
       "      <td>590933</td>\n",
       "      <td>13-May-20</td>\n",
       "      <td>T12540</td>\n",
       "      <td>NaN</td>\n",
       "      <td>36</td>\n",
       "      <td>36</td>\n",
       "      <td>20</td>\n",
       "    </tr>\n",
       "    <tr>\n",
       "      <th>3</th>\n",
       "      <td>3</td>\n",
       "      <td>3-Apr-20</td>\n",
       "      <td>CRJ700</td>\n",
       "      <td>15046</td>\n",
       "      <td>JZA</td>\n",
       "      <td>NaN</td>\n",
       "      <td>0</td>\n",
       "      <td>N</td>\n",
       "      <td>N</td>\n",
       "      <td>Y</td>\n",
       "      <td>...</td>\n",
       "      <td>302201</td>\n",
       "      <td>Incident: RTRN L COWL ANTI ICE CAUTION MSG. L ...</td>\n",
       "      <td>(Resolved On W/O: 684248 Taskcard: NR-00001 ) ...</td>\n",
       "      <td>591076</td>\n",
       "      <td>27-May-20</td>\n",
       "      <td>T12540</td>\n",
       "      <td>NaN</td>\n",
       "      <td>30</td>\n",
       "      <td>30</td>\n",
       "      <td>20</td>\n",
       "    </tr>\n",
       "    <tr>\n",
       "      <th>4</th>\n",
       "      <td>4</td>\n",
       "      <td>8-Apr-20</td>\n",
       "      <td>CRJ700</td>\n",
       "      <td>15044</td>\n",
       "      <td>JZA</td>\n",
       "      <td>NaN</td>\n",
       "      <td>0</td>\n",
       "      <td>N</td>\n",
       "      <td>N</td>\n",
       "      <td>Y</td>\n",
       "      <td>...</td>\n",
       "      <td>213108</td>\n",
       "      <td>Incident: RTRN OVBD COOL CAUTION MESSAGE DISPL...</td>\n",
       "      <td>(Resolved On W/O: 684350 Taskcard: NR-00001 ) ...</td>\n",
       "      <td>591077</td>\n",
       "      <td>27-May-20</td>\n",
       "      <td>T12540</td>\n",
       "      <td>NaN</td>\n",
       "      <td>21</td>\n",
       "      <td>21</td>\n",
       "      <td>20</td>\n",
       "    </tr>\n",
       "  </tbody>\n",
       "</table>\n",
       "<p>5 rows × 28 columns</p>\n",
       "</div>"
      ],
      "text/plain": [
       "   Unnamed: 0    AI_DATE AC_MODEL  AC_SN OPERATOR_CODE  \\\n",
       "0           0  29-Mar-20   CRJ700  15299           EDV   \n",
       "1           1  30-Mar-20   CRJ700  15125           EDV   \n",
       "2           2  30-Mar-20   CRJ700  10176           EDV   \n",
       "3           3   3-Apr-20   CRJ700  15046           JZA   \n",
       "4           4   8-Apr-20   CRJ700  15044           JZA   \n",
       "\n",
       "  EVENT_RECORD_IDENTIFIER  DIVERTED_LANDING AIR_TURN_BACK REJECTED_TAKE_OFF  \\\n",
       "0                     NaN                 0             N                 N   \n",
       "1                     NaN                 0             N                 N   \n",
       "2                     NaN                 0             N                 N   \n",
       "3                     NaN                 0             N                 N   \n",
       "4                     NaN                 0             N                 N   \n",
       "\n",
       "  GROUND_TURN_BACK  ... ATA_CAUSE  \\\n",
       "0                Y  ...    308102   \n",
       "1                Y  ...    243101   \n",
       "2                Y  ...    361315   \n",
       "3                Y  ...    302201   \n",
       "4                Y  ...    213108   \n",
       "\n",
       "                                 INTERRUPTION_REASON  \\\n",
       "0                          ICE DET (X) FAIL - STATUS   \n",
       "1                              TRU FAN FAIL - STATUS   \n",
       "2                                ISOL FAIL - CAUTION   \n",
       "3  Incident: RTRN L COWL ANTI ICE CAUTION MSG. L ...   \n",
       "4  Incident: RTRN OVBD COOL CAUTION MESSAGE DISPL...   \n",
       "\n",
       "                                   CORRECTIVE_ACTION   AI_ID  EDIT_DATE  \\\n",
       "0                   DEFERRED - REPLACED ICE DETECTOR  590931  13-May-20   \n",
       "1                            DEFERRED - REPLACED TRU  590932  13-May-20   \n",
       "2                           REPLACED ISOLATION VALVE  590933  13-May-20   \n",
       "3  (Resolved On W/O: 684248 Taskcard: NR-00001 ) ...  591076  27-May-20   \n",
       "4  (Resolved On W/O: 684350 Taskcard: NR-00001 ) ...  591077  27-May-20   \n",
       "\n",
       "  EDITED_BY Unnamed: 23  ATA_CHAPTER  ATA_CHAPTER_CAUSE AI_DATE_1  \n",
       "0    T12540         NaN           30                 30        20  \n",
       "1    T12540         NaN           24                 24        20  \n",
       "2    T12540         NaN           36                 36        20  \n",
       "3    T12540         NaN           30                 30        20  \n",
       "4    T12540         NaN           21                 21        20  \n",
       "\n",
       "[5 rows x 28 columns]"
      ]
     },
     "execution_count": 23,
     "metadata": {},
     "output_type": "execute_result"
    }
   ],
   "source": [
    "df.head()"
   ]
  },
  {
   "cell_type": "code",
   "execution_count": 52,
   "metadata": {},
   "outputs": [
    {
     "data": {
      "text/plain": [
       "51781"
      ]
     },
     "execution_count": 52,
     "metadata": {},
     "output_type": "execute_result"
    }
   ],
   "source": [
    "len(df)"
   ]
  },
  {
   "cell_type": "code",
   "execution_count": 80,
   "metadata": {},
   "outputs": [
    {
     "data": {
      "text/plain": [
       "22962"
      ]
     },
     "execution_count": 80,
     "metadata": {},
     "output_type": "execute_result"
    }
   ],
   "source": [
    "df = df.dropna(axis=0, subset=['ATA_SYMPTOM'])\n",
    "len(df)"
   ]
  },
  {
   "cell_type": "code",
   "execution_count": 54,
   "metadata": {},
   "outputs": [],
   "source": [
    "df['ATA_SYMPTOM'].nunique()\n",
    "df[\"ATA_SYMPTOM\"] = df[\"ATA_SYMPTOM\"].astype(str)\n",
    "\n",
    "#filtered_df = df[df['ATA_SYMPTOM'].isnull()]"
   ]
  },
  {
   "cell_type": "code",
   "execution_count": 42,
   "metadata": {},
   "outputs": [],
   "source": [
    "#df = df.astype({\"ATA_SYMPTOM\": 'str', \"ATA_CAUSE\": 'str'}) \n",
    "\n",
    "#df.filter(items=['ATA_SYMPTOM','ATA_CAUSE',\"INTERRUPTION_REASON\",\n",
    "#\"CORRECTIVE_ACTION\",'ATA_CHAPTER',\"ATA_CHAPTER_CAUSE\"])\n"
   ]
  },
  {
   "cell_type": "code",
   "execution_count": 91,
   "metadata": {},
   "outputs": [
    {
     "data": {
      "text/plain": [
       "0        ICE DET (X) FAIL - STATUS - DEFERRED - REPLACE...\n",
       "1          TRU FAN FAIL - STATUS - DEFERRED - REPLACED TRU\n",
       "2           ISOL FAIL - CAUTION - REPLACED ISOLATION VALVE\n",
       "3        Incident: RTRN L COWL ANTI ICE CAUTION MSG. L ...\n",
       "4        Incident: RTRN OVBD COOL CAUTION MESSAGE DISPL...\n",
       "                               ...                        \n",
       "51776    Pilot Base Heat caution message just after tak...\n",
       "51777    Attempted to retract gear on departure, gear d...\n",
       "51778    Tat probe heat, R Aoa heat, r static heat, R p...\n",
       "51779    After departure, NOSE DOOR OPEN and GEAR DISAG...\n",
       "51780    APU OIL TEMP, APU OIL PRESS CAUTION MESSAGE IN...\n",
       "Name: features, Length: 22962, dtype: object"
      ]
     },
     "execution_count": 91,
     "metadata": {},
     "output_type": "execute_result"
    }
   ],
   "source": [
    "df['features']"
   ]
  },
  {
   "cell_type": "code",
   "execution_count": 92,
   "metadata": {},
   "outputs": [],
   "source": [
    "from sklearn.model_selection import train_test_split\n",
    "#only use feature length and punct\n",
    "#X = df[['INTERRUPTION_REASON','CORRECTIVE_ACTION']]\n",
    "#X = df['INTERRUPTION_REASON']+df['CORRECTIVE_ACTION']\n",
    "df['features'] = df['INTERRUPTION_REASON'].str.cat(df['CORRECTIVE_ACTION'], sep='  ',na_rep=' ')\n",
    "X = df['features']\n",
    "y = df['ATA_SYMPTOM']\n",
    "X_train, X_test, y_train, y_test = train_test_split(X, y, test_size=0.33, random_state=42)\n",
    "#X_train"
   ]
  },
  {
   "cell_type": "code",
   "execution_count": 132,
   "metadata": {},
   "outputs": [
    {
     "name": "stderr",
     "output_type": "stream",
     "text": [
      "D:\\Programs\\anaconda3\\lib\\site-packages\\sklearn\\svm\\_base.py:976: ConvergenceWarning: Liblinear failed to converge, increase the number of iterations.\n",
      "  warnings.warn(\"Liblinear failed to converge, increase \"\n"
     ]
    },
    {
     "data": {
      "text/plain": [
       "Pipeline(steps=[('tfidf', CountVectorizer()), ('clf', LinearSVC())])"
      ]
     },
     "execution_count": 132,
     "metadata": {},
     "output_type": "execute_result"
    }
   ],
   "source": [
    "from sklearn.feature_extraction.text import TfidfVectorizer\n",
    "from sklearn.svm import LinearSVC\n",
    "from sklearn.pipeline import Pipeline\n",
    "text_clf = Pipeline([('tfidf',CountVectorizer()),('clf',LinearSVC())])\n",
    "text_clf.fit(X_train,y_train)"
   ]
  },
  {
   "cell_type": "code",
   "execution_count": 133,
   "metadata": {},
   "outputs": [],
   "source": [
    "predictions = text_clf.predict(X_test)"
   ]
  },
  {
   "cell_type": "code",
   "execution_count": 135,
   "metadata": {},
   "outputs": [
    {
     "data": {
      "text/plain": [
       "array([[205,   0,   0, ...,   0,   0,   0],\n",
       "       [  0,   0,   0, ...,   0,   0,   0],\n",
       "       [  0,   0,   0, ...,   0,   0,   0],\n",
       "       ...,\n",
       "       [  0,   0,   0, ...,   0,   0,   0],\n",
       "       [  0,   0,   0, ...,   0, 213,   0],\n",
       "       [  0,   0,   0, ...,   0,   2,   0]], dtype=int64)"
      ]
     },
     "execution_count": 135,
     "metadata": {},
     "output_type": "execute_result"
    }
   ],
   "source": [
    "from sklearn import metrics\n",
    "metrics.confusion_matrix(y_test,predictions)"
   ]
  },
  {
   "cell_type": "code",
   "execution_count": 134,
   "metadata": {},
   "outputs": [
    {
     "data": {
      "text/plain": [
       "0.7147004486671945"
      ]
     },
     "execution_count": 134,
     "metadata": {},
     "output_type": "execute_result"
    }
   ],
   "source": [
    "metrics.accuracy_score(y_test,predictions)"
   ]
  },
  {
   "cell_type": "code",
   "execution_count": 129,
   "metadata": {},
   "outputs": [
    {
     "data": {
      "text/plain": [
       "MultinomialNB()"
      ]
     },
     "execution_count": 129,
     "metadata": {},
     "output_type": "execute_result"
    }
   ],
   "source": [
    "from sklearn.naive_bayes import MultinomialNB\n",
    "#nb_model = MultinomialNB()\n",
    "#nb_model = Pipeline([('tfidf',TfidfVectorizer()),('clf',MultinomialNB())])\n",
    "#nb_model.fit(X_train,y_train)\n",
    "\n",
    "\n",
    "#vectorizer = CountVectorizer()\n",
    "vectorizer = TfidfVectorizer()\n",
    "counts = vectorizer.fit_transform(X_train.values)\n",
    "classifier = MultinomialNB()\n",
    "targets = y_train.values\n",
    "classifier.fit(counts, targets)"
   ]
  },
  {
   "cell_type": "code",
   "execution_count": 130,
   "metadata": {},
   "outputs": [
    {
     "data": {
      "text/plain": [
       "array([[205,   0,   0, ...,   0,   0,   0],\n",
       "       [  0,   0,   0, ...,   0,   0,   0],\n",
       "       [  0,   0,   0, ...,   0,   0,   0],\n",
       "       ...,\n",
       "       [  0,   0,   0, ...,   0,   1,   0],\n",
       "       [  0,   0,   0, ...,   0, 242,   0],\n",
       "       [  0,   0,   0, ...,   0,   2,   0]], dtype=int64)"
      ]
     },
     "execution_count": 130,
     "metadata": {},
     "output_type": "execute_result"
    }
   ],
   "source": [
    "example_counts = vectorizer.transform(X_test)\n",
    "predictions = classifier.predict(example_counts)\n",
    "metrics.confusion_matrix(y_test,predictions)"
   ]
  },
  {
   "cell_type": "code",
   "execution_count": 131,
   "metadata": {},
   "outputs": [
    {
     "data": {
      "text/plain": [
       "0.35009237265769333"
      ]
     },
     "execution_count": 131,
     "metadata": {},
     "output_type": "execute_result"
    }
   ],
   "source": [
    "metrics.accuracy_score(y_test,predictions)"
   ]
  },
  {
   "cell_type": "code",
   "execution_count": 101,
   "metadata": {},
   "outputs": [
    {
     "data": {
      "text/plain": [
       "Pipeline(steps=[('tfidf', TfidfVectorizer()), ('lr', LogisticRegression())])"
      ]
     },
     "execution_count": 101,
     "metadata": {},
     "output_type": "execute_result"
    }
   ],
   "source": [
    "from sklearn.linear_model import LogisticRegression\n",
    "lr_model = Pipeline([('tfidf',TfidfVectorizer()),('lr',LogisticRegression())])\n",
    "lr_model.fit(X_train,y_train)"
   ]
  },
  {
   "cell_type": "code",
   "execution_count": 104,
   "metadata": {},
   "outputs": [
    {
     "data": {
      "text/plain": [
       "array([[205,   0,   0, ...,   0,   0,   0],\n",
       "       [  0,   0,   0, ...,   0,   0,   0],\n",
       "       [  0,   0,   0, ...,   0,   0,   0],\n",
       "       ...,\n",
       "       [  0,   0,   0, ...,   0,   1,   0],\n",
       "       [  0,   0,   0, ...,   0, 241,   0],\n",
       "       [  0,   0,   0, ...,   0,   2,   0]], dtype=int64)"
      ]
     },
     "execution_count": 104,
     "metadata": {},
     "output_type": "execute_result"
    }
   ],
   "source": [
    "predictions = lr_model.predict(X_test)\n",
    "metrics.confusion_matrix(y_test,predictions)"
   ]
  },
  {
   "cell_type": "code",
   "execution_count": 105,
   "metadata": {},
   "outputs": [
    {
     "data": {
      "text/plain": [
       "0.7158880971232515"
      ]
     },
     "execution_count": 105,
     "metadata": {},
     "output_type": "execute_result"
    }
   ],
   "source": [
    "metrics.accuracy_score(y_test,predictions)"
   ]
  },
  {
   "cell_type": "code",
   "execution_count": 122,
   "metadata": {},
   "outputs": [
    {
     "data": {
      "text/plain": [
       "Pipeline(steps=[('tfidf', TfidfVectorizer()), ('lr', SVC(kernel='poly'))])"
      ]
     },
     "execution_count": 122,
     "metadata": {},
     "output_type": "execute_result"
    }
   ],
   "source": [
    "from sklearn.svm import SVC\n",
    "svclassifier = SVC(kernel='poly', degree=3)\n",
    "sv_model = Pipeline([('tfidf',TfidfVectorizer()),('lr',svclassifier)])\n",
    "sv_model.fit(X_train,y_train)"
   ]
  },
  {
   "cell_type": "code",
   "execution_count": 123,
   "metadata": {},
   "outputs": [],
   "source": [
    "predictions = sv_model.predict(X_test)\n",
    "#metrics.confusion_matrix(y_test,predictions)"
   ]
  },
  {
   "cell_type": "code",
   "execution_count": 124,
   "metadata": {},
   "outputs": [
    {
     "data": {
      "text/plain": [
       "0.5050145157033518"
      ]
     },
     "execution_count": 124,
     "metadata": {},
     "output_type": "execute_result"
    }
   ],
   "source": [
    "metrics.accuracy_score(y_test,predictions)"
   ]
  },
  {
   "cell_type": "code",
   "execution_count": 114,
   "metadata": {},
   "outputs": [
    {
     "data": {
      "text/plain": [
       "Pipeline(steps=[('tfidf', TfidfVectorizer()), ('lr', SVC())])"
      ]
     },
     "execution_count": 114,
     "metadata": {},
     "output_type": "execute_result"
    }
   ],
   "source": [
    "svclassifier = SVC(kernel='rbf')\n",
    "sv_model = Pipeline([('tfidf',TfidfVectorizer()),('lr',svclassifier)])\n",
    "sv_model.fit(X_train,y_train)"
   ]
  },
  {
   "cell_type": "code",
   "execution_count": 115,
   "metadata": {},
   "outputs": [
    {
     "data": {
      "text/plain": [
       "array([[205,   0,   0, ...,   0,   0,   0],\n",
       "       [  0,   0,   0, ...,   0,   0,   0],\n",
       "       [  0,   0,   0, ...,   0,   0,   0],\n",
       "       ...,\n",
       "       [  0,   0,   0, ...,   0,   0,   0],\n",
       "       [  0,   0,   0, ...,   0, 244,   0],\n",
       "       [  0,   0,   0, ...,   0,   2,   0]], dtype=int64)"
      ]
     },
     "execution_count": 115,
     "metadata": {},
     "output_type": "execute_result"
    }
   ],
   "source": [
    "predictions = sv_model.predict(X_test)\n",
    "metrics.confusion_matrix(y_test,predictions)"
   ]
  },
  {
   "cell_type": "code",
   "execution_count": 116,
   "metadata": {},
   "outputs": [
    {
     "data": {
      "text/plain": [
       "0.7082343626286619"
      ]
     },
     "execution_count": 116,
     "metadata": {},
     "output_type": "execute_result"
    }
   ],
   "source": [
    "metrics.accuracy_score(y_test,predictions)"
   ]
  },
  {
   "cell_type": "code",
   "execution_count": 117,
   "metadata": {},
   "outputs": [
    {
     "data": {
      "text/plain": [
       "Pipeline(steps=[('tfidf', TfidfVectorizer()),\n",
       "                ('lr', KNeighborsClassifier(n_neighbors=141))])"
      ]
     },
     "execution_count": 117,
     "metadata": {},
     "output_type": "execute_result"
    }
   ],
   "source": [
    "from sklearn.neighbors import KNeighborsClassifier\n",
    "knn = KNeighborsClassifier(n_neighbors=141)\n",
    "sv_model = Pipeline([('tfidf',TfidfVectorizer()),('lr',knn)])\n",
    "sv_model.fit(X_train,y_train)"
   ]
  },
  {
   "cell_type": "code",
   "execution_count": 118,
   "metadata": {},
   "outputs": [
    {
     "data": {
      "text/plain": [
       "array([[205,   0,   0, ...,   0,   0,   0],\n",
       "       [  0,   0,   0, ...,   0,   0,   0],\n",
       "       [  0,   0,   0, ...,   0,   0,   0],\n",
       "       ...,\n",
       "       [  0,   0,   0, ...,   0,   1,   0],\n",
       "       [  0,   0,   0, ...,   0, 256,   0],\n",
       "       [  0,   0,   0, ...,   0,   2,   0]], dtype=int64)"
      ]
     },
     "execution_count": 118,
     "metadata": {},
     "output_type": "execute_result"
    }
   ],
   "source": [
    "predictions = sv_model.predict(X_test)\n",
    "metrics.confusion_matrix(y_test,predictions)"
   ]
  },
  {
   "cell_type": "code",
   "execution_count": 119,
   "metadata": {},
   "outputs": [
    {
     "data": {
      "text/plain": [
       "0.6508313539192399"
      ]
     },
     "execution_count": 119,
     "metadata": {},
     "output_type": "execute_result"
    }
   ],
   "source": [
    "metrics.accuracy_score(y_test,predictions)"
   ]
  },
  {
   "cell_type": "code",
   "execution_count": null,
   "metadata": {},
   "outputs": [],
   "source": []
  },
  {
   "cell_type": "code",
   "execution_count": null,
   "metadata": {},
   "outputs": [],
   "source": [
    "\n"
   ]
  },
  {
   "cell_type": "code",
   "execution_count": null,
   "metadata": {},
   "outputs": [],
   "source": []
  }
 ],
 "metadata": {
  "kernelspec": {
   "display_name": "Python 3",
   "language": "python",
   "name": "python3"
  },
  "language_info": {
   "codemirror_mode": {
    "name": "ipython",
    "version": 3
   },
   "file_extension": ".py",
   "mimetype": "text/x-python",
   "name": "python",
   "nbconvert_exporter": "python",
   "pygments_lexer": "ipython3",
   "version": "3.8.3"
  }
 },
 "nbformat": 4,
 "nbformat_minor": 4
}
